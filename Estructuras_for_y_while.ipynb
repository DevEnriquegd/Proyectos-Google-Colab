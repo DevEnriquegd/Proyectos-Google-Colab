{
  "nbformat": 4,
  "nbformat_minor": 0,
  "metadata": {
    "colab": {
      "provenance": [],
      "authorship_tag": "ABX9TyPNU31fm1NDMILaiZT/Ru8O",
      "include_colab_link": true
    },
    "kernelspec": {
      "name": "python3",
      "display_name": "Python 3"
    },
    "language_info": {
      "name": "python"
    }
  },
  "cells": [
    {
      "cell_type": "markdown",
      "metadata": {
        "id": "view-in-github",
        "colab_type": "text"
      },
      "source": [
        "<a href=\"https://colab.research.google.com/github/DevEnriquegd/Proyectos-Google-Colab/blob/main/Estructuras_for_y_while.ipynb\" target=\"_parent\"><img src=\"https://colab.research.google.com/assets/colab-badge.svg\" alt=\"Open In Colab\"/></a>"
      ]
    },
    {
      "cell_type": "markdown",
      "source": [
        "Ana está desarrollando un programa que necesita procesar una lista de 5 nombres de clientes para generar informes mensuales. Para ello, necesita escribir un programa que recorra la lista de nombres y muestre cada cliente.\n",
        "\n",
        "clientes = [\"Juan\", \"Maria\", \"Carlos\", \"Ana\", \"Beatriz\"]\n",
        "\n",
        "Ayuda a Ana a decidir entre usar un lazo for o while. Escribe el programa usando el lazo que creas más adecuado para esta tarea y explica por qué elegiste ese lazo."
      ],
      "metadata": {
        "id": "ymg_N9_8YpjF"
      }
    },
    {
      "cell_type": "code",
      "source": [
        "clientes = [\"Juan\", \"Maria\", \"Carlos\", \"Ana\", \"Beatriz\"]\n",
        "\n",
        "for cliente in clientes:\n",
        "    print(cliente)"
      ],
      "metadata": {
        "colab": {
          "base_uri": "https://localhost:8080/"
        },
        "id": "NhvLQJkfYsdN",
        "outputId": "34698183-52a9-4898-d46a-57f1ebf0e5fa"
      },
      "execution_count": 1,
      "outputs": [
        {
          "output_type": "stream",
          "name": "stdout",
          "text": [
            "Juan\n",
            "Maria\n",
            "Carlos\n",
            "Ana\n",
            "Beatriz\n"
          ]
        }
      ]
    },
    {
      "cell_type": "markdown",
      "source": [
        "André está probando una nueva función en el backend de Buscante que procesa datos en un bucle. Durante las pruebas, se dio cuenta de que el sistema dejó de responder y sospecha que el problema está en un bucle infinito.\n",
        "\n",
        "\n",
        "\n",
        "```\n",
        "contador = 0\n",
        "\n",
        "while contador < 10:\n",
        "    print(\"Procesando datos...\")\n",
        "```\n",
        "\n"
      ],
      "metadata": {
        "id": "UGi9AfsvY0ks"
      }
    },
    {
      "cell_type": "code",
      "source": [
        "contador = 0\n",
        "\n",
        "while contador < 10:\n",
        "  print(\"Procesando datos...\")\n",
        "  contador += 1"
      ],
      "metadata": {
        "colab": {
          "base_uri": "https://localhost:8080/"
        },
        "id": "SlFjQg1lY58K",
        "outputId": "4c80cca8-6a0f-49cc-8051-6e757be3cead"
      },
      "execution_count": 3,
      "outputs": [
        {
          "output_type": "stream",
          "name": "stdout",
          "text": [
            "Procesando datos...\n",
            "Procesando datos...\n",
            "Procesando datos...\n",
            "Procesando datos...\n",
            "Procesando datos...\n",
            "Procesando datos...\n",
            "Procesando datos...\n",
            "Procesando datos...\n",
            "Procesando datos...\n",
            "Procesando datos...\n"
          ]
        }
      ]
    },
    {
      "cell_type": "markdown",
      "source": [
        "Marcos está desarrollando un programa para mostrar un mensaje de bienvenida repetidamente en la consola, como parte de una campaña de marketing de su plataforma llamada Buscante. Quiere asegurarse de que el mensaje se muestre 5 veces.\n",
        "\n",
        "Ayuda a Marcos a escribir un programa que muestre el mensaje: \"¡Bienvenido a Buscante!\" el número exacto de veces que necesita."
      ],
      "metadata": {
        "id": "DLAWgnoPZH6s"
      }
    },
    {
      "cell_type": "code",
      "source": [
        "nombre_plataforma = 'Buscante'\n",
        "\n",
        "for i in range(1,6):\n",
        "  print(f\"¡Bienvenido a {nombre_plataforma}!\")"
      ],
      "metadata": {
        "colab": {
          "base_uri": "https://localhost:8080/"
        },
        "id": "4mgkK25GZITi",
        "outputId": "c8dc0b51-9aee-4c1c-ae0f-1cc74972640e"
      },
      "execution_count": 4,
      "outputs": [
        {
          "output_type": "stream",
          "name": "stdout",
          "text": [
            "¡Bienvenido a Buscante!\n",
            "¡Bienvenido a Buscante!\n",
            "¡Bienvenido a Buscante!\n",
            "¡Bienvenido a Buscante!\n",
            "¡Bienvenido a Buscante!\n"
          ]
        }
      ]
    },
    {
      "cell_type": "markdown",
      "source": [
        "Estás recibiendo una lista de valores que representan los productos de tu tienda virtual y te gustaría calcular la suma total de esos productos para entender el desempeño financiero semanal.\n",
        "\n",
        "valores = [10, 20, 30, 40, 50]\n",
        "\n",
        "Crea un programa para implementar la suma."
      ],
      "metadata": {
        "id": "_fl3sziKZbPs"
      }
    },
    {
      "cell_type": "code",
      "source": [
        "valores = [10, 20, 30, 40, 50]\n",
        "\n",
        "suma_valores = sum(valores)\n",
        "\n",
        "print(f\"La suma de los valores es de: {suma_valores}\")"
      ],
      "metadata": {
        "colab": {
          "base_uri": "https://localhost:8080/"
        },
        "id": "mLpi2hikZcc4",
        "outputId": "69483cd4-65fa-42bb-f1dc-80119d494c19"
      },
      "execution_count": 7,
      "outputs": [
        {
          "output_type": "stream",
          "name": "stdout",
          "text": [
            "La suma de los valores es de: 150\n"
          ]
        }
      ]
    },
    {
      "cell_type": "markdown",
      "source": [
        "José está desarrollando una funcionalidad en el sistema de Buscante para interrumpir la búsqueda tan pronto como se encuentre un libro específico. La lista de libros ya registrados en el sistema es la siguiente:\n",
        "\n",
        "\n",
        "\n",
        "```\n",
        "libros = [\"1984\", \"Cien años de soledad\", \"El Principito\", \"El Hobbit\", \"Orgullo y Prejuicio\"]\n",
        "```\n",
        "\n",
        "Ayuda a José a crear un programa que recorra la lista y muestre el mensaje \"Libro encontrado: <nombre del libro>\" tan pronto como se encuentre el libro \"El Hobbit\". Después de encontrar el libro, el programa debe detener inmediatamente la búsqueda, sin verificar los libros restantes."
      ],
      "metadata": {
        "id": "WKKG-ef9aT-E"
      }
    },
    {
      "cell_type": "code",
      "source": [
        "libros = [\"1984\", \"Cien años de soledad\", \"El Principito\", \"El Hobbit\", \"Orgullo y Prejuicio\"]\n",
        "\n",
        "for libro in libros:\n",
        "  if libro == 'El Hobbit':\n",
        "    print(f\"Libro encontrado: {libro}\")\n",
        "    break"
      ],
      "metadata": {
        "colab": {
          "base_uri": "https://localhost:8080/"
        },
        "id": "JJ-iZH9yafBX",
        "outputId": "6378b8bc-1cb0-4152-ff1c-188266038dfe"
      },
      "execution_count": 8,
      "outputs": [
        {
          "output_type": "stream",
          "name": "stdout",
          "text": [
            "Libro encontrado: El Hobbit\n"
          ]
        }
      ]
    },
    {
      "cell_type": "markdown",
      "source": [
        "Estás desarrollando un sistema de control de inventario para Buscante. Uno de los requisitos es verificar la cantidad de ejemplares de un libro en inventario y continuar vendiendo hasta que el inventario se agote. Siempre que se realiza una venta, el sistema debe informar al usuario y actualizar la cantidad disponible.\n",
        "\n",
        "Crea un programa que simule las ventas de un libro con el inventario inicial de 5 ejemplares. El programa debe mostrar el mensaje \"¡Venta realizada! Inventario restante: <cantidad>\" con cada venta y, al final, mostrar el mensaje \"Inventario agotado\"."
      ],
      "metadata": {
        "id": "WsxcLbZpaxa8"
      }
    },
    {
      "cell_type": "code",
      "source": [
        "copias_libro = 5\n",
        "\n",
        "for i in range(1, copias_libro+1):\n",
        "  print(f\"¡Venta realizada! Inventario restante: {copias_libro - i}\")\n",
        "\n",
        "print(\"Inventario agotado\")"
      ],
      "metadata": {
        "colab": {
          "base_uri": "https://localhost:8080/"
        },
        "id": "fVdCzDUjay6B",
        "outputId": "91e7badb-ebe7-4dc3-827b-155f2991d3e0"
      },
      "execution_count": 13,
      "outputs": [
        {
          "output_type": "stream",
          "name": "stdout",
          "text": [
            "¡Venta realizada! Inventario restante: 4\n",
            "¡Venta realizada! Inventario restante: 3\n",
            "¡Venta realizada! Inventario restante: 2\n",
            "¡Venta realizada! Inventario restante: 1\n",
            "¡Venta realizada! Inventario restante: 0\n",
            "Inventario agotado\n"
          ]
        }
      ]
    },
    {
      "cell_type": "markdown",
      "source": [
        "Aline está implementando una funcionalidad que muestra mensajes personalizados para los clientes durante una promoción especial de su nueva librería. El sistema debe mostrar un mensaje de cuenta regresiva personalizado para cada número de 10 a 1, y al final mostrar el mensaje: \"¡Aprovecha la promoción ahora!\".\n",
        "\n",
        "Crea un programa que utilice un bucle for para mostrar los siguientes mensajes:\n",
        "\n",
        "* Para números pares, muestra: \"Faltan solo <número> segundos - ¡No pierdas esta oportunidad!\".\n",
        "* Para números impares, muestra: \"La cuenta continúa: <número> segundos restantes.\".\n",
        "* Al final de la cuenta, muestra el mensaje: \"¡Aprovecha la promoción ahora!\"."
      ],
      "metadata": {
        "id": "DrgCxp6obWOs"
      }
    },
    {
      "cell_type": "code",
      "source": [
        "numero_clientes = 10\n",
        "\n",
        "for i in range(numero_clientes, 0, -1):\n",
        "  if i % 2 == 0:\n",
        "    print(f\"Faltan solo {i} segundos - ¡No pierdas esta oportunidad!\")\n",
        "  else:\n",
        "    print(f\"La cuenta continúa: {i} segundos restantes.\")\n",
        "\n",
        "print(\"!Aprovécha la promoción ahora!\")"
      ],
      "metadata": {
        "colab": {
          "base_uri": "https://localhost:8080/"
        },
        "id": "DDCG0D4obZBF",
        "outputId": "5fc359e4-d3ef-487c-d72c-e8e2711c927b"
      },
      "execution_count": 14,
      "outputs": [
        {
          "output_type": "stream",
          "name": "stdout",
          "text": [
            "Faltan solo 10 segundos - ¡No pierdas esta oportunidad!\n",
            "La cuenta continúa: 9 segundos restantes.\n",
            "Faltan solo 8 segundos - ¡No pierdas esta oportunidad!\n",
            "La cuenta continúa: 7 segundos restantes.\n",
            "Faltan solo 6 segundos - ¡No pierdas esta oportunidad!\n",
            "La cuenta continúa: 5 segundos restantes.\n",
            "Faltan solo 4 segundos - ¡No pierdas esta oportunidad!\n",
            "La cuenta continúa: 3 segundos restantes.\n",
            "Faltan solo 2 segundos - ¡No pierdas esta oportunidad!\n",
            "La cuenta continúa: 1 segundos restantes.\n",
            "!Aprovécha la promoción ahora!\n"
          ]
        }
      ]
    },
    {
      "cell_type": "markdown",
      "source": [
        "Ana está implementando un sistema de filtrado de libros en Buscante. La funcionalidad debe recorrer una lista de libros y mostrar el nombre de cada libro disponible en stock. Sin embargo, si el libro está agotado, debe ser ignorado durante la iteración.\n",
        "\n",
        "\n",
        "\n",
        "```\n",
        "libros = [\n",
        "    {\"nombre\": \"1984\", \"stock\": 5},\n",
        "    {\"nombre\": \"Dom Casmurro\", \"stock\": 0},\n",
        "    {\"nombre\": \"El Principito\", \"stock\": 3},\n",
        "    {\"nombre\": \"El Hobbit\", \"stock\": 0},\n",
        "    {\"nombre\": \"Orgullo y Prejuicio\", \"stock\": 2}\n",
        "]\n",
        "```\n",
        "\n",
        "Crea un programa que ayude a Ana a mostrar solamente los libros que tienen stock disponible, en el formato: \"Libro disponible: <nombre del libro>\".\n"
      ],
      "metadata": {
        "id": "9zSdayaccB84"
      }
    },
    {
      "cell_type": "code",
      "source": [
        "libros = [\n",
        "    {\"nombre\": \"1984\", \"stock\": 5},\n",
        "    {\"nombre\": \"Dom Casmurro\", \"stock\": 0},\n",
        "    {\"nombre\": \"El Principito\", \"stock\": 3},\n",
        "    {\"nombre\": \"El Hobbit\", \"stock\": 0},\n",
        "    {\"nombre\": \"Orgullo y Prejuicio\", \"stock\": 2}\n",
        "]\n",
        "\n",
        "for libro in libros:\n",
        "  if libro['stock'] > 0:\n",
        "    print(f\"Libro disponible: {libro['nombre']} con {libro['stock']} ejemplares\")"
      ],
      "metadata": {
        "colab": {
          "base_uri": "https://localhost:8080/"
        },
        "id": "7OjJ6slRcFzz",
        "outputId": "6582e8a2-2145-44d6-cb6a-7ff7821831a3"
      },
      "execution_count": 17,
      "outputs": [
        {
          "output_type": "stream",
          "name": "stdout",
          "text": [
            "Libro disponible: 1984 con 5 ejemplares\n",
            "Libro disponible: El Principito con 3 ejemplares\n",
            "Libro disponible: Orgullo y Prejuicio con 2 ejemplares\n"
          ]
        }
      ]
    },
    {
      "cell_type": "markdown",
      "source": [
        "João está desarrollando un sistema de registro para un sitio de lectura. Necesita asegurarse de que los usuarios ingresen un nombre de usuario y una contraseña válidos. Las reglas son las siguientes:\n",
        "\n",
        "* El nombre de usuario debe tener al menos 5 caracteres.\n",
        "* La contraseña debe tener al menos 8 caracteres.\n",
        "\n",
        "João quiere que el sistema siga solicitando la información hasta que ambas condiciones se cumplan. Cuando el usuario ingresa datos válidos, el programa debe mostrar el mensaje: \"¡Registro realizado con éxito!\".\n",
        "\n",
        "Crea un programa que implemente esta lógica usando un bucle while."
      ],
      "metadata": {
        "id": "_KeJl0bHcpyK"
      }
    },
    {
      "cell_type": "code",
      "source": [
        "nombre_usuario = input(\"Ingrese su nombre de usuario: \")\n",
        "contraseña_usuario = input(\"Ingrese su contraseña: \")\n",
        "\n",
        "while len(nombre_usuario) < 5 or len(contraseña_usuario) < 8:\n",
        "  print(\"El nombre de usuario debe tener al menos 5 caracteres y la contraseña debe tener al menos 8 caracteres.\")\n",
        "  nombre_usuario = input(\"Ingrese su nombre de usuario: \")\n",
        "  contraseña_usuario = input(\"Ingrese su contraseña: \")\n",
        "\n",
        "print('¡Registro realizado con éxito!')"
      ],
      "metadata": {
        "colab": {
          "base_uri": "https://localhost:8080/"
        },
        "id": "9r0tOryBcsal",
        "outputId": "c3447397-1b86-4d4b-c5a6-2ec4be64870a"
      },
      "execution_count": 30,
      "outputs": [
        {
          "output_type": "stream",
          "name": "stdout",
          "text": [
            "Ingrese su nombre de usuario: martad123\n",
            "Ingrese su contraseña: epaorasf\n",
            "¡Registro realizado con éxito!\n"
          ]
        }
      ]
    }
  ]
}