{
  "nbformat": 4,
  "nbformat_minor": 0,
  "metadata": {
    "colab": {
      "provenance": [],
      "authorship_tag": "ABX9TyN2fR5TKnM3lA/OmnY88o+H",
      "include_colab_link": true
    },
    "kernelspec": {
      "name": "python3",
      "display_name": "Python 3"
    },
    "language_info": {
      "name": "python"
    }
  },
  "cells": [
    {
      "cell_type": "markdown",
      "metadata": {
        "id": "view-in-github",
        "colab_type": "text"
      },
      "source": [
        "<a href=\"https://colab.research.google.com/github/DevEnriquegd/Proyectos-Google-Colab/blob/main/Cuartos_pasos.ipynb\" target=\"_parent\"><img src=\"https://colab.research.google.com/assets/colab-badge.svg\" alt=\"Open In Colab\"/></a>"
      ]
    },
    {
      "cell_type": "markdown",
      "source": [
        "## Entrenando la programación"
      ],
      "metadata": {
        "id": "R3otwZOBm2NM"
      }
    },
    {
      "cell_type": "markdown",
      "source": [
        "Escribe un programa que solicite dos números enteros e imprima todos los números enteros entre ellos."
      ],
      "metadata": {
        "id": "4WZkaTFbm4Hi"
      }
    },
    {
      "cell_type": "code",
      "source": [
        "valor_minimo = int(input(\"Ingrese el valor mínimo: \"))\n",
        "valor_maximo = int(input(\"Ingrese el valor máximo: \"))\n",
        "\n",
        "if valor_minimo < valor_maximo:\n",
        "  for i in range(valor_minimo, valor_maximo+1):\n",
        "    print(i)\n",
        "else:\n",
        "  for i in range(valor_minimo, valor_maximo+1,-1):\n",
        "    print(i)\n"
      ],
      "metadata": {
        "colab": {
          "base_uri": "https://localhost:8080/"
        },
        "id": "mZeFlMMrnUaw",
        "outputId": "6b924a26-0bce-47c0-bc08-a86d6f8f09ac"
      },
      "execution_count": null,
      "outputs": [
        {
          "output_type": "stream",
          "name": "stdout",
          "text": [
            "Ingrese el valor mínimo: 18\n",
            "Ingrese el valor máximo: 2\n",
            "18\n",
            "17\n",
            "16\n",
            "15\n",
            "14\n",
            "13\n",
            "12\n",
            "11\n",
            "10\n",
            "9\n",
            "8\n",
            "7\n",
            "6\n",
            "5\n",
            "4\n"
          ]
        }
      ]
    },
    {
      "cell_type": "markdown",
      "source": [
        "Escribe un programa para calcular cuántos días tomará que la colonia de una bacteria A supere o iguale a la colonia de una bacteria B, basado en tasas de crecimiento del 3% y 1.5%, respectivamente. Supón que la colonia A comienza con 4 elementos y B con 10."
      ],
      "metadata": {
        "id": "S2tpAHAQm6l7"
      }
    },
    {
      "cell_type": "code",
      "source": [
        "bacteria_A = 4.0\n",
        "bacteria_B = 10.0\n",
        "dias = 0;\n",
        "\n",
        "while bacteria_A <= bacteria_B:\n",
        "  bacteria_A = bacteria_A * 1.03\n",
        "  bacteria_B = bacteria_B * 1.015\n",
        "  dias += 1\n",
        "  #print(f\"Día N°{dias}: La bactería A tiene {bacteria_A:.2f} elementos y la bactería B tiene {bacteria_B:.2f} elementos\")\n",
        "\n",
        "print(f\"Le ha tomado {dias} días a la bactería A {bacteria_A:.2f} superar a la bactería B {bacteria_B:.2f}\")"
      ],
      "metadata": {
        "colab": {
          "base_uri": "https://localhost:8080/"
        },
        "id": "boDESFwbpK9W",
        "outputId": "880ac9ff-18f8-4cd1-84f5-a1d9aac7837c"
      },
      "execution_count": null,
      "outputs": [
        {
          "output_type": "stream",
          "name": "stdout",
          "text": [
            "Le ha tomado 63 días a la bactería A 25.75 superar a la bactería B 25.55\n"
          ]
        }
      ]
    },
    {
      "cell_type": "markdown",
      "source": [
        "Para procesar una cantidad de 15 datos de evaluaciones de usuarios de un servicio de la empresa, necesitamos verificar si las calificaciones son válidas. Por lo tanto, escribe un programa que recibirá calificaciones del 0 al 5 y verificará si son valores válidos. Si se ingresa una calificación superior a 5 o inferior a 0, se repetirá hasta que el usuario ingrese un valor válido."
      ],
      "metadata": {
        "id": "NHEUw-QAm89Y"
      }
    },
    {
      "cell_type": "code",
      "source": [
        "calificaciones = []\n",
        "cantidad_calificaciones = 0\n",
        "contador = 0\n",
        "\n",
        "while cantidad_calificaciones <= 15:\n",
        "  calificacion = int(input(f\"{contador} Ingrese una calificación del 0 al 5: \"))\n",
        "  if calificacion >= 0 and calificacion <= 5:\n",
        "    calificaciones.append(calificacion)\n",
        "    contador += 1\n",
        "    cantidad_calificaciones += 1\n",
        "  else:\n",
        "    print(\"La calificación ingresada no es válida\")\n",
        "promedio_calificaciones = sum(calificaciones)/len(calificaciones)\n",
        "\n",
        "print(f\"Las calificaciones ingresadas son {calificaciones}\\nEl promedio de las calificaciones es: {promedio_calificaciones:.2f}\")"
      ],
      "metadata": {
        "colab": {
          "base_uri": "https://localhost:8080/"
        },
        "id": "-aQ_YVAJu84U",
        "outputId": "454e131a-7660-443c-c768-bb858538e6b9"
      },
      "execution_count": null,
      "outputs": [
        {
          "output_type": "stream",
          "name": "stdout",
          "text": [
            "0 Ingrese una calificación del 0 al 5: 3\n",
            "1 Ingrese una calificación del 0 al 5: 4\n",
            "2 Ingrese una calificación del 0 al 5: 2\n",
            "3 Ingrese una calificación del 0 al 5: 5\n",
            "4 Ingrese una calificación del 0 al 5: 2\n",
            "5 Ingrese una calificación del 0 al 5: 1\n",
            "6 Ingrese una calificación del 0 al 5: 4\n",
            "7 Ingrese una calificación del 0 al 5: 3\n",
            "8 Ingrese una calificación del 0 al 5: 2\n",
            "9 Ingrese una calificación del 0 al 5: 1\n",
            "10 Ingrese una calificación del 0 al 5: 4\n",
            "11 Ingrese una calificación del 0 al 5: 2\n",
            "12 Ingrese una calificación del 0 al 5: 3\n",
            "13 Ingrese una calificación del 0 al 5: 5\n",
            "14 Ingrese una calificación del 0 al 5: 1\n",
            "15 Ingrese una calificación del 0 al 5: 0\n",
            "Las calificaciones ingresadas son [3, 4, 2, 5, 2, 1, 4, 3, 2, 1, 4, 2, 3, 5, 1, 0]\n",
            "El promedio de las calificaciones es: 2.62\n"
          ]
        }
      ]
    },
    {
      "cell_type": "markdown",
      "source": [
        "Desarrolla un programa que lea un conjunto indefinido de temperaturas en grados Celsius y calcule su promedio. La lectura debe detenerse al ingresar el valor -273°C."
      ],
      "metadata": {
        "id": "c3LDKlAfm9_4"
      }
    },
    {
      "cell_type": "code",
      "source": [
        "temperaturas = []\n",
        "temperatura = 0\n",
        "contador = 0\n",
        "\n",
        "while temperatura != -273:\n",
        "  temperatura = float(input(f\"{contador}) Ingrese una temperatura en grados Celsius:\"))\n",
        "  if temperatura != -273:\n",
        "    temperaturas.append(temperatura)\n",
        "    contador += 1\n",
        "  else:\n",
        "    exit()\n",
        "\n",
        "promedio_temperaturas = sum(temperaturas)/len(temperaturas)\n",
        "\n",
        "print(f\"Las temperaturas ingresadas son {temperaturas}\\nEl promedio de las temperaturas es: {promedio_temperaturas:.2f}\")"
      ],
      "metadata": {
        "colab": {
          "base_uri": "https://localhost:8080/"
        },
        "id": "ZGLtXF8gyINm",
        "outputId": "0dbc0ed6-5420-4e19-b1fb-efd3ef2617b9"
      },
      "execution_count": null,
      "outputs": [
        {
          "output_type": "stream",
          "name": "stdout",
          "text": [
            "0) Ingrese una temperatura en grados Celsius:260\n",
            "1) Ingrese una temperatura en grados Celsius:273\n",
            "2) Ingrese una temperatura en grados Celsius:254\n",
            "3) Ingrese una temperatura en grados Celsius:230\n",
            "4) Ingrese una temperatura en grados Celsius:130\n",
            "5) Ingrese una temperatura en grados Celsius:-27\n",
            "6) Ingrese una temperatura en grados Celsius:-273\n",
            "Las temperaturas ingresadas son [260.0, 273.0, 254.0, 230.0, 130.0, -27.0]\n",
            "El promedio de las temperaturas es: 186.67\n"
          ]
        }
      ]
    },
    {
      "cell_type": "markdown",
      "source": [
        "Escribe un programa que calcule el factorial de un número entero proporcionado por el usuario. Recuerda que el factorial de un número entero es el producto de ese número por todos sus antecesores hasta llegar al número 1. Por ejemplo, el factorial de 5 es 5 x 4 x 3 x 2 x 1 = 120."
      ],
      "metadata": {
        "id": "usP6ZIlJm_UG"
      }
    },
    {
      "cell_type": "code",
      "source": [
        "numero_factorial = int(input('Ingrese un número entero para calcular su factorial: '))\n",
        "factorial = 1\n",
        "\n",
        "for i in range(1, numero_factorial + 1):\n",
        "    factorial *= i\n",
        "\n",
        "print(f'El factorial de {numero_factorial} es {factorial}')"
      ],
      "metadata": {
        "colab": {
          "base_uri": "https://localhost:8080/"
        },
        "id": "IshSfD1wzV-o",
        "outputId": "42897f66-dd0a-4a5a-e179-ea19c7e4cddd"
      },
      "execution_count": 1,
      "outputs": [
        {
          "output_type": "stream",
          "name": "stdout",
          "text": [
            "Ingrese un número entero para calcular su factorial: 6\n",
            "El factorial de 6 es 720\n"
          ]
        }
      ]
    },
    {
      "cell_type": "markdown",
      "source": [
        "## Momento de los proyectos"
      ],
      "metadata": {
        "id": "XjAetxJsnBgw"
      }
    },
    {
      "cell_type": "markdown",
      "source": [
        "Escribe un programa que genere la tabla de multiplicar de un número entero del 1 al 10, según la elección del usuario. Como ejemplo, para el número 2, la tabla de multiplicar debe mostrarse en el siguiente formato:\n",
        "\n",
        "Tabla de multiplicar del 2:\n",
        "2 x 1 = 2\n",
        "2 x 2 = 4\n",
        "[...]\n",
        "2 x 10 = 20"
      ],
      "metadata": {
        "id": "LO6RDdAOnC40"
      }
    },
    {
      "cell_type": "code",
      "source": [
        "numero_usuario = int(input(\"Ingrese un número entero para generar su tabla de multiplicar: \"))\n",
        "\n",
        "print(f\"Tabla de multiplicar del {numero_usuario}\")\n",
        "\n",
        "for i in range(1,11):\n",
        "  print(f\"{numero_usuario} x {i} = {numero_usuario*i}\")"
      ],
      "metadata": {
        "colab": {
          "base_uri": "https://localhost:8080/"
        },
        "id": "koLpOBx-8Uzc",
        "outputId": "5facdfe9-07d4-4507-f4d4-b27421710852"
      },
      "execution_count": 6,
      "outputs": [
        {
          "output_type": "stream",
          "name": "stdout",
          "text": [
            "Ingrese un número entero para generar su tabla de multiplicar: 2\n",
            "Tabla de multiplicar del 2\n",
            "2 x 1 = 2\n",
            "2 x 2 = 4\n",
            "2 x 3 = 6\n",
            "2 x 4 = 8\n",
            "2 x 5 = 10\n",
            "2 x 6 = 12\n",
            "2 x 7 = 14\n",
            "2 x 8 = 16\n",
            "2 x 9 = 18\n",
            "2 x 10 = 20\n"
          ]
        }
      ]
    },
    {
      "cell_type": "markdown",
      "source": [
        "Los números primos tienen diversas aplicaciones en Ciencia de Datos, como en criptografía y seguridad. Un número primo es aquel que es divisible solo por sí mismo y por 1. Por lo tanto, crea un programa que solicite un número entero y determine si es un número primo o no."
      ],
      "metadata": {
        "id": "Rpy_vPdtnJJG"
      }
    },
    {
      "cell_type": "code",
      "source": [
        "numero_entero = int(input('Ingrese un número entero: '))\n",
        "\n",
        "for i in range(2, numero_entero):\n",
        "  if numero_entero % i == 0:\n",
        "    print(f'{numero_entero} no es un número primo')\n",
        "    break\n",
        "else:\n",
        "  print(f'{numero_entero} es un número primo')"
      ],
      "metadata": {
        "colab": {
          "base_uri": "https://localhost:8080/"
        },
        "id": "AoDvqFDe9txg",
        "outputId": "ecd3ed27-746f-465b-c88d-96b90825807b"
      },
      "execution_count": 23,
      "outputs": [
        {
          "output_type": "stream",
          "name": "stdout",
          "text": [
            "Ingrese un número entero: 15\n",
            "15 no es un número primo\n"
          ]
        }
      ]
    },
    {
      "cell_type": "markdown",
      "source": [
        "Vamos a comprender la distribución de edades de los pensionistas de una empresa de seguros. Escribe un programa que lea las edades de una cantidad no informada de clientes y muestre la distribución en los intervalos [0-25], [26-50], [51-75] y [76-100]. La entrada de datos se detendrá al ingresar un número negativo."
      ],
      "metadata": {
        "id": "n41ghYErnKXd"
      }
    },
    {
      "cell_type": "code",
      "source": [
        "rango_0_25 = 0\n",
        "rango_26_50 = 0\n",
        "rango_51_75 = 0\n",
        "rango_76_100 = 0\n",
        "while True:\n",
        "  edad_pensionistas = int(input(\"Ingrese la edad del pensionista: \"))\n",
        "  if edad_pensionistas < 0:\n",
        "    print(\"Ha ingresado una edad negativa\")\n",
        "    break\n",
        "  if edad_pensionistas <= 25:\n",
        "    rango_0_25 += 1\n",
        "  elif edad_pensionistas <= 50:\n",
        "    rango_26_50 += 1\n",
        "  elif edad_pensionistas <= 75:\n",
        "    rango_51_75 += 1\n",
        "  else:\n",
        "    rango_76_100 += 1\n",
        "\n",
        "print(f\"\\nLa cantidad de pensionistas en el intervalo [0-25] es de {rango_0_25}\")\n",
        "print(f\"La cantidad de pensionistas en el intervalo [26-50] es de {rango_26_50}\")\n",
        "print(f\"La cantidad de pensionistas en el intervalo [51-75] es de {rango_51_75}\")\n",
        "print(f\"La cantidad de pensionistas en el intervalo [76-100] es de {rango_76_100}\")"
      ],
      "metadata": {
        "colab": {
          "base_uri": "https://localhost:8080/"
        },
        "id": "uVTo-ahC_8b-",
        "outputId": "74ef8326-8ecd-4154-d355-4ec6a96d23e1"
      },
      "execution_count": 31,
      "outputs": [
        {
          "output_type": "stream",
          "name": "stdout",
          "text": [
            "Ingrese la edad del pensionista: 15\n",
            "Ingrese la edad del pensionista: 26\n",
            "Ingrese la edad del pensionista: 70\n",
            "Ingrese la edad del pensionista: 15\n",
            "Ingrese la edad del pensionista: 50\n",
            "Ingrese la edad del pensionista: 52\n",
            "Ingrese la edad del pensionista: 61\n",
            "Ingrese la edad del pensionista: 32\n",
            "Ingrese la edad del pensionista: -8\n",
            "Ha ingresado una edad negativa\n",
            "\n",
            "La cantidad de pensionistas en el intervalo [0-25] es de 2\n",
            "La cantidad de pensionistas en el intervalo [51-75] es de 3\n",
            "La cantidad de pensionistas en el intervalo [76-100] es de 0\n",
            "La cantidad de pensionistas en el intervalo [26-50] es de 3\n"
          ]
        }
      ]
    },
    {
      "cell_type": "markdown",
      "source": [
        "En una elección para la gerencia de una empresa con 20 empleados, hay cuatro candidatos. Escribe un programa que calcule al ganador de la elección. La votación se realizó de la siguiente manera:\n",
        "\n",
        "* Cada empleado votó por uno de los cuatro candidatos (representados por los números 1, 2, 3 y 4).\n",
        "\n",
        "* También se contaron los votos nulos (representados por el número 5) y los votos en blanco (representados por el número 6).\n",
        "\n",
        "* Al final de la votación, el programa debe mostrar el número total de votos para cada candidato, los votos nulos y los votos en blanco. Además, debe calcular y mostrar el porcentaje de votos nulos con respecto al total de votos y el porcentaje de votos en blanco con respecto al total de votos."
      ],
      "metadata": {
        "id": "4xXh4JjAnLwA"
      }
    },
    {
      "cell_type": "code",
      "source": [
        "total_empleados = 20\n",
        "votos_candidato_1 = 0\n",
        "votos_candidato_2 = 0\n",
        "votos_candidato_3 = 0\n",
        "votos_candidato_4 = 0\n",
        "votos_nulos = 0\n",
        "votos_en_blanco = 0\n",
        "\n",
        "print('Bienvenido, se están llevando las elecciones entre los candidatos 1, 2, 3 y 4')\n",
        "\n",
        "for i in range(total_empleados):\n",
        "  voto_usuario = int(input(f\"Empleado N°{i+1} ingrese su voto por su candidato: \"))\n",
        "  if voto_usuario < 1 or voto_usuario > 6:\n",
        "    break\n",
        "  elif voto_usuario == 1:\n",
        "    votos_candidato_1 += 1\n",
        "  elif voto_usuario == 2:\n",
        "    votos_candidato_2 += 1\n",
        "  elif voto_usuario == 3:\n",
        "    votos_candidato_3 += 1\n",
        "  elif voto_usuario == 4:\n",
        "    votos_candidato_4 += 1\n",
        "  elif voto_usuario == 5:\n",
        "    votos_nulos += 1\n",
        "  elif voto_usuario == 6:\n",
        "    votos_en_blanco += 1\n",
        "\n",
        "#Calcular el porcentaje de votos nulos con respecto al total, y el porcentaje de votos en blanco\n",
        "total_votos = votos_candidato_1 + votos_candidato_2 + votos_candidato_3 + votos_candidato_4 + votos_nulos + votos_en_blanco\n",
        "porcentaje_votos_nulos = (votos_nulos / total_votos) * 100\n",
        "porcentaje_votos_en_blanco = (votos_en_blanco / total_votos) * 100\n",
        "\n",
        "print(f\"El candidato 1 obtuvo {votos_candidato_1} votos\")\n",
        "print(f\"El candidato 2 obtuvo {votos_candidato_2} votos\")\n",
        "print(f\"El candidato 3 obtuvo {votos_candidato_3} votos\")\n",
        "print(f\"El candidato 4 obtuvo {votos_candidato_4} votos\")\n",
        "print(f\"El total de votos fue de: {total_votos}\")\n",
        "print(f\"El porcentaje de votos nulos con respecto al total fue de {porcentaje_votos_nulos:.2f}%\")\n",
        "print(f\"El porcentaje de votos en blanco con respecto al total fue de {porcentaje_votos_en_blanco:.2f}%\")"
      ],
      "metadata": {
        "colab": {
          "base_uri": "https://localhost:8080/"
        },
        "id": "CBuHPNUcDfoc",
        "outputId": "b8348ff8-611d-4577-9fa2-9b6f073db530"
      },
      "execution_count": 41,
      "outputs": [
        {
          "output_type": "stream",
          "name": "stdout",
          "text": [
            "Bienvenido, se están llevando las elecciones entre los candidatos 1, 2, 3 y 4\n",
            "Empleado N°1 ingrese su voto por su candidato: 4\n",
            "Empleado N°2 ingrese su voto por su candidato: 2\n",
            "Empleado N°3 ingrese su voto por su candidato: 3\n",
            "Empleado N°4 ingrese su voto por su candidato: 5\n",
            "Empleado N°5 ingrese su voto por su candidato: 6\n",
            "Empleado N°6 ingrese su voto por su candidato: 7\n",
            "El candidato 1 obtuvo 0 votos\n",
            "El candidato 2 obtuvo 1 votos\n",
            "El candidato 3 obtuvo 1 votos\n",
            "El candidato 4 obtuvo 1 votos\n",
            "El total de votos fue de: 5\n",
            "El porcentaje de votos nulos con respecto al total fue de 20.00%\n",
            "El porcentaje de votos en blanco con respecto al total fue de 20.00%\n"
          ]
        }
      ]
    }
  ]
}