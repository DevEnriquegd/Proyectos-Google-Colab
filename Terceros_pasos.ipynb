{
  "nbformat": 4,
  "nbformat_minor": 0,
  "metadata": {
    "colab": {
      "provenance": [],
      "authorship_tag": "ABX9TyNfus9ZfqyphWY9gTA252Oz",
      "include_colab_link": true
    },
    "kernelspec": {
      "name": "python3",
      "display_name": "Python 3"
    },
    "language_info": {
      "name": "python"
    }
  },
  "cells": [
    {
      "cell_type": "markdown",
      "metadata": {
        "id": "view-in-github",
        "colab_type": "text"
      },
      "source": [
        "<a href=\"https://colab.research.google.com/github/DevEnriquegd/Proyectos-Google-Colab/blob/main/Terceros_pasos.ipynb\" target=\"_parent\"><img src=\"https://colab.research.google.com/assets/colab-badge.svg\" alt=\"Open In Colab\"/></a>"
      ]
    },
    {
      "cell_type": "markdown",
      "source": [
        "## Entrenando la programación"
      ],
      "metadata": {
        "id": "4wITun2Ycwiz"
      }
    },
    {
      "cell_type": "markdown",
      "source": [
        "Escribe un programa que pida a la persona usuaria que proporcione dos números y muestre el número más grande."
      ],
      "metadata": {
        "id": "MmOlfiP0c0GR"
      }
    },
    {
      "cell_type": "code",
      "source": [
        "primer_numero = int(input('Ingrese el primer número: '))\n",
        "segundo_numero = int(input('Ingrese el segundo número: '))\n",
        "\n",
        "if primer_numero > segundo_numero:\n",
        "    print(f\"El número mayor es: {primer_numero}\")\n",
        "else:\n",
        "    print(f\"El número mayor es: {segundo_numero}\")"
      ],
      "metadata": {
        "colab": {
          "base_uri": "https://localhost:8080/"
        },
        "id": "XtsP-jZfdV4j",
        "outputId": "195a6fb3-40c2-4cf2-f6a8-1392c53df788"
      },
      "execution_count": 2,
      "outputs": [
        {
          "output_type": "stream",
          "name": "stdout",
          "text": [
            "Ingrese el primer número: 65\n",
            "Ingrese el segundo número: 2\n",
            "El número mayor es: 65\n"
          ]
        }
      ]
    },
    {
      "cell_type": "markdown",
      "source": [
        "Escribe un programa que solicite el porcentaje de crecimiento de producción de una empresa e informe si hubo un crecimiento (porcentaje positivo) o una disminución (porcentaje negativo)."
      ],
      "metadata": {
        "id": "GqGiApbVc3dC"
      }
    },
    {
      "cell_type": "code",
      "source": [
        "porcentaje_actual = 60\n",
        "porcentaje_nuevo = int(input('Ingrese el porcentaje de crecimiento de producción: '))\n",
        "\n",
        "if porcentaje_nuevo > porcentaje_actual:\n",
        "  print(f\"Hubo un crecimiento del: {porcentaje_nuevo-porcentaje_actual}%\")\n",
        "else:\n",
        "  print(f\"Hubo una disminución del: {porcentaje_nuevo-porcentaje_actual}%\")"
      ],
      "metadata": {
        "colab": {
          "base_uri": "https://localhost:8080/"
        },
        "id": "CUMTZsR6dnQQ",
        "outputId": "35d0e018-07f1-470d-fa31-1cdf4ecca1c0"
      },
      "execution_count": 6,
      "outputs": [
        {
          "output_type": "stream",
          "name": "stdout",
          "text": [
            "Ingrese el porcentaje de crecimiento de producción: 3\n",
            "Hubo una disminución del: -57%\n"
          ]
        }
      ]
    },
    {
      "cell_type": "markdown",
      "source": [
        "Escribe un programa que determine si una letra proporcionada por la persona usuaria es una vocal o una consonante."
      ],
      "metadata": {
        "id": "AdlTNYl2c4Gn"
      }
    },
    {
      "cell_type": "code",
      "source": [
        "vocales = ['a', 'e', 'i', 'o', 'u']\n",
        "letra_usuario = input('Ingrese una letra: ')\n",
        "\n",
        "if letra_usuario in vocales:\n",
        "  print('Ha ingresado una vocal')\n",
        "else:\n",
        "  print('Ha ingresado una consonante')"
      ],
      "metadata": {
        "colab": {
          "base_uri": "https://localhost:8080/"
        },
        "id": "V5iHtGSIel42",
        "outputId": "a93e33cf-0f1f-4020-b64e-b2bb1861d503"
      },
      "execution_count": 10,
      "outputs": [
        {
          "output_type": "stream",
          "name": "stdout",
          "text": [
            "Ingrese una letra: i\n",
            "Ha ingresado una vocal\n"
          ]
        }
      ]
    },
    {
      "cell_type": "markdown",
      "source": [
        "Escribe un programa que lea valores promedio de precios de un modelo de automóvil durante 3 años consecutivos y muestre el valor más alto y más bajo entre esos tres años.\n",
        "\n"
      ],
      "metadata": {
        "id": "i-HkebIqc5fj"
      }
    },
    {
      "cell_type": "code",
      "source": [
        "corolla_2022 = 35000\n",
        "corolla_2023 = 35000\n",
        "corolla_2024 = 35000\n",
        "\n",
        "if corolla_2024 > corolla_2023 and corolla_2024 > corolla_2022:\n",
        "  print(f\"El valor más alto es del Toyota Corolla del año 2024 con un valor de: ${corolla_2024}\")\n",
        "elif corolla_2023 > corolla_2024 and corolla_2023 > corolla_2022:\n",
        "  print(f\"El valor más alto es del Toyota Corolla del año 2023 con un valor de: ${corolla_2023}\")\n",
        "else:\n",
        "  print(f\"El valor más alto es del Toyota Corolla del año 2022 con un valor de: ${corolla_2022}\")\n",
        "\n",
        "if corolla_2024 < corolla_2023 and corolla_2024 < corolla_2022:\n",
        "  print(f\"El valor más bajo es del Toyota Corolla del año 2024 con un valor de: ${corolla_2024}\")\n",
        "elif corolla_2023 < corolla_2024 and corolla_2023 < corolla_2022:\n",
        "  print(f\"El valor más bajo es del Toyota Corolla del año 2023 con un valor de: ${corolla_2023}\")\n",
        "else:\n",
        "  print(f\"El valor más bajo es del Toyota Corolla del año 2022 con un valor de: ${corolla_2022}\")"
      ],
      "metadata": {
        "colab": {
          "base_uri": "https://localhost:8080/"
        },
        "id": "S6zbVtsOe83V",
        "outputId": "cbe9675e-09ef-42b8-9848-3ade4cb2409b"
      },
      "execution_count": 17,
      "outputs": [
        {
          "output_type": "stream",
          "name": "stdout",
          "text": [
            "El valor más alto es del Toyota Corolla del año 2022 con un valor de: $35000\n",
            "El valor más bajo es del Toyota Corolla del año 2022 con un valor de: $35000\n"
          ]
        }
      ]
    },
    {
      "cell_type": "code",
      "source": [
        "#Utilizando un diccionario\n",
        "precios_corolla = {2022: 40000, 2023: 40000, 2024: 45000}\n",
        "\n",
        "precio_mas_alto = max(precios_corolla.values())\n",
        "precio_mas_bajo = min(precios_corolla.values())\n",
        "\n",
        "años_con_precio_alto = [año for año, precio in precios_corolla.items() if precio == precio_mas_alto]\n",
        "años_con_precio_bajo = [año for año, precio in precios_corolla.items() if precio == precio_mas_bajo]\n",
        "\n",
        "años_con_precio_alto_str = ' y '.join(map(str, años_con_precio_alto))\n",
        "años_con_precio_bajo_str = ' y '.join(map(str, años_con_precio_bajo))\n",
        "\n",
        "print(f\"El valor MÁS ALTO es de ${precio_mas_alto}, registrado en el/los año(s): {años_con_precio_alto_str}\")\n",
        "print(f\"El valor MÁS BAJO es de ${precio_mas_bajo}, registrado en el/los año(s): {años_con_precio_bajo_str}\")"
      ],
      "metadata": {
        "colab": {
          "base_uri": "https://localhost:8080/"
        },
        "id": "8I8_2RQQjcul",
        "outputId": "345a6ccc-aa43-4df1-c18c-a66f60b4f9d7"
      },
      "execution_count": 21,
      "outputs": [
        {
          "output_type": "stream",
          "name": "stdout",
          "text": [
            "El valor MÁS ALTO es de $45000, registrado en el/los año(s): 2024\n",
            "El valor MÁS BAJO es de $40000, registrado en el/los año(s): 2022 y 2023\n"
          ]
        }
      ]
    },
    {
      "cell_type": "markdown",
      "source": [
        "Escribe un programa que pregunte sobre el precio de tres productos e indique cuál es el producto más barato para comprar."
      ],
      "metadata": {
        "id": "E7hvz0J9c6yv"
      }
    },
    {
      "cell_type": "code",
      "source": [
        "precio_producto_1 = float(input('Ingrese el precio del producto 1: '))\n",
        "precio_producto_2 = float(input('Ingrese el precio del producto 2: '))\n",
        "precio_producto_3 = float(input('Ingrese el precio del producto 3: '))\n",
        "\n",
        "if precio_producto_1 < precio_producto_2 and precio_producto_1 < precio_producto_3:\n",
        "  print(f\"El producto más barato es el producto 1 con un precio de: ${precio_producto_1:.2f}\")\n",
        "elif precio_producto_2 < precio_producto_1 and precio_producto_2 < precio_producto_3:\n",
        "  print(f\"El producto más barato es el producto 2 con un precio de: ${precio_producto_2:.2f}\")\n",
        "else :\n",
        "  print(f\"El producto más barato es el producto 3 con un precio de: ${precio_producto_3:.2f}\")"
      ],
      "metadata": {
        "colab": {
          "base_uri": "https://localhost:8080/"
        },
        "id": "iuRPJkyhm6xU",
        "outputId": "55c7d72b-2840-491f-e2c7-3074209724cf"
      },
      "execution_count": 23,
      "outputs": [
        {
          "output_type": "stream",
          "name": "stdout",
          "text": [
            "Ingrese el precio del producto 1: 6858.95\n",
            "Ingrese el precio del producto 2: 64.795479457\n",
            "Ingrese el precio del producto 3: 549.57576\n",
            "El producto más barato es el producto 2 con un precio de: $64.80\n"
          ]
        }
      ]
    },
    {
      "cell_type": "markdown",
      "source": [
        "Escribe un programa que lea tres números y los muestre en orden descendente."
      ],
      "metadata": {
        "id": "FMqBIo19c8Pk"
      }
    },
    {
      "cell_type": "code",
      "source": [
        "primer_numero = int(input('Ingrese el primer número: '))\n",
        "segundo_numero = int(input('Ingrese el segundo número: '))\n",
        "tercer_numero = int(input('Ingrese el tercer número: '))\n",
        "\n",
        "if primer_numero >= segundo_numero and primer_numero >= tercer_numero:\n",
        "    if segundo_numero >= tercer_numero:\n",
        "        print(f\"{primer_numero}, {segundo_numero}, {tercer_numero}\")\n",
        "    else:\n",
        "        print(f\"{primer_numero}, {tercer_numero}, {segundo_numero}\")\n",
        "\n",
        "elif segundo_numero >= primer_numero and segundo_numero >= tercer_numero:\n",
        "    if primer_numero >= tercer_numero:\n",
        "        print(f\"{segundo_numero}, {primer_numero}, {tercer_numero}\")\n",
        "    else:\n",
        "        print(f\"{segundo_numero}, {tercer_numero}, {primer_numero}\")\n",
        "\n",
        "else:\n",
        "    if primer_numero >= segundo_numero:\n",
        "        print(f\"{tercer_numero}, {primer_numero}, {segundo_numero}\")\n",
        "    else:\n",
        "        print(f\"{tercer_numero}, {segundo_numero}, {primer_numero}\")"
      ],
      "metadata": {
        "colab": {
          "base_uri": "https://localhost:8080/"
        },
        "id": "MXSLbJDenUPA",
        "outputId": "cafa4334-299d-4591-b722-caa5ea2dc8eb"
      },
      "execution_count": 27,
      "outputs": [
        {
          "output_type": "stream",
          "name": "stdout",
          "text": [
            "Ingrese el primer número: 54\n",
            "Ingrese el segundo número: 57\n",
            "Ingrese el tercer número: 55\n",
            "57, 55, 54\n"
          ]
        }
      ]
    },
    {
      "cell_type": "markdown",
      "source": [
        "Escribe un programa que pregunte en qué turno estudia la persona usuaria (\"mañana\", \"tarde\" o \"noche\") y muestre el mensaje \"¡Buenos Días!\", \"¡Buenas Tardes!\", \"¡Buenas Noches!\" o \"Valor Inválido!\", según el caso."
      ],
      "metadata": {
        "id": "JG_arEq4c9K8"
      }
    },
    {
      "cell_type": "code",
      "source": [
        "turnos_de_estudio = ['mañana', 'tarde', 'noche']\n",
        "turno_usuario = input('Ingrese el turno en el que estudias: ')\n",
        "\n",
        "turno_usuario = turno_usuario.strip().lower()\n",
        "\n",
        "if turno_usuario in turnos_de_estudio:\n",
        "  if turno_usuario == 'mañana':\n",
        "    print('¡Buenos días!')\n",
        "  elif turno_usuario == 'tarde':\n",
        "    print('¡Buenas tardes!')\n",
        "  else:\n",
        "    print('¡Buenas noches!')\n",
        "else:\n",
        "  print('Valor inválido')"
      ],
      "metadata": {
        "colab": {
          "base_uri": "https://localhost:8080/"
        },
        "id": "3QWwhaEMqhYr",
        "outputId": "8a74bbd1-979f-4493-adb2-93e20b00c37c"
      },
      "execution_count": 36,
      "outputs": [
        {
          "output_type": "stream",
          "name": "stdout",
          "text": [
            "Ingrese el turno en el que estudias: mañana\n",
            "¡Buenos días!\n"
          ]
        }
      ]
    },
    {
      "cell_type": "markdown",
      "source": [
        "Escribe un programa que solicite un número entero a la persona usuaria y determine si es par o impar. Pista: Puedes usar el operador módulo (%)."
      ],
      "metadata": {
        "id": "YWz5C3NZc-rN"
      }
    },
    {
      "cell_type": "code",
      "source": [
        "numero_usuario = int(input('Ingrese un número entero: '))\n",
        "\n",
        "if numero_usuario % 2 == 0:\n",
        "  print('El número es par')\n",
        "else:\n",
        "  print('El número es impar')"
      ],
      "metadata": {
        "colab": {
          "base_uri": "https://localhost:8080/"
        },
        "id": "YratWzG3rA6d",
        "outputId": "397ce3ac-a857-431a-bf16-850a7f93ac6d"
      },
      "execution_count": 31,
      "outputs": [
        {
          "output_type": "stream",
          "name": "stdout",
          "text": [
            "Ingrese un número entero: 45\n",
            "El número es impar\n"
          ]
        }
      ]
    },
    {
      "cell_type": "markdown",
      "source": [
        "Escribe un programa que pida un número a la persona usuaria y le informe si es entero o decimal."
      ],
      "metadata": {
        "id": "Zz5YPMdDc_sx"
      }
    },
    {
      "cell_type": "code",
      "source": [
        "numero_usuario = float(input('Ingrese un número: '))\n",
        "\n",
        "if numero_usuario == int(numero_usuario):\n",
        "  print('El número es entero')\n",
        "else:\n",
        "  print('El número es decimal')"
      ],
      "metadata": {
        "colab": {
          "base_uri": "https://localhost:8080/"
        },
        "id": "fiz8FMi2rJMT",
        "outputId": "8d1f5a04-07ad-4546-8fce-9f31db4e344f"
      },
      "execution_count": 35,
      "outputs": [
        {
          "output_type": "stream",
          "name": "stdout",
          "text": [
            "Ingrese un número: 7\n",
            "El número es entero\n"
          ]
        }
      ]
    },
    {
      "cell_type": "markdown",
      "source": [
        "## Momento de los proyectos"
      ],
      "metadata": {
        "id": "-5yChnJfdBGU"
      }
    },
    {
      "cell_type": "markdown",
      "source": [
        "Un programa debe ser escrito para leer dos números y luego preguntar a la persona usuaria qué operación desea realizar. El resultado de la operación debe incluir información sobre el número, si es par o impar, positivo o negativo, e entero o decimal."
      ],
      "metadata": {
        "id": "kjXX3cy_dDJH"
      }
    },
    {
      "cell_type": "code",
      "source": [
        "def calcular_informacion_adicional(numero):\n",
        "  resultado = []\n",
        "  if numero % 2 == 0:\n",
        "    resultado.append('El número es par')\n",
        "  else:\n",
        "    resultado.append('El número es impar')\n",
        "  if numero > 0:\n",
        "    resultado.append('El número es positivo')\n",
        "  elif numero < 0:\n",
        "    resultado.append('El número es negativo')\n",
        "  else:\n",
        "    resultado.append('El número escero')\n",
        "  if numero == int(numero):\n",
        "    resultado.append('Eel número es entero')\n",
        "  else:\n",
        "    resultado.append('El número ese decimal')\n",
        "  return resultado\n",
        "\n",
        "primer_numero = float(input('Ingrese el primer número: '))\n",
        "segundo_numero = float(input('Ingrese el segundo número: '))\n",
        "operacion = input('Ingrese la operación que desea realizar: ')\n",
        "\n",
        "operaciones_validas = ['suma', 'resta', 'multiplicacion', 'division']\n",
        "\n",
        "operacion = operacion.strip().lower()\n",
        "\n",
        "if operacion in operaciones_validas:\n",
        "  if operacion == 'suma':\n",
        "    resultado = primer_numero + segundo_numero\n",
        "  elif operacion == 'resta':\n",
        "    resultado = primer_numero - segundo_numero\n",
        "  elif operacion == 'multiplicacion':\n",
        "    resultado = primer_numero * segundo_numero\n",
        "  else:\n",
        "    resultado = primer_numero / segundo_numero\n",
        "  print(f\"\\nEl resultado de la operación es: {resultado:.2f}\")\n",
        "  informacion_adicional = calcular_informacion_adicional(resultado)\n",
        "  for info in informacion_adicional:\n",
        "    print(info)\n",
        "else:\n",
        "  print('Operación inválida')"
      ],
      "metadata": {
        "colab": {
          "base_uri": "https://localhost:8080/"
        },
        "id": "RMnZoDtUsdAr",
        "outputId": "2f8cb578-4a8b-44d2-872d-114e1d96947b"
      },
      "execution_count": 47,
      "outputs": [
        {
          "output_type": "stream",
          "name": "stdout",
          "text": [
            "Ingrese el primer número: 45\n",
            "Ingrese el segundo número: 25\n",
            "Ingrese la operación que desea realizar: division\n",
            "\n",
            "El resultado de la operación es: 1.80\n"
          ]
        }
      ]
    },
    {
      "cell_type": "markdown",
      "source": [
        "Escribe un programa que pida a la persona usuaria tres números que representan los lados de un triángulo. El programa debe informar si los valores pueden utilizarse para formar un triángulo y, en caso afirmativo, si es equilátero, isósceles o escaleno. Ten en cuenta algunas sugerencias:\n",
        "\n",
        "* Tres lados forman un triángulo cuando la suma de cualesquiera dos lados es mayor que el tercero;\n",
        "* Triángulo Equilátero: tres lados iguales;\n",
        "* Triángulo Isósceles: dos lados iguales;\n",
        "* Triángulo Escaleno: tres lados diferentes.\n",
        "\n"
      ],
      "metadata": {
        "id": "4zLQlKiOdFHo"
      }
    },
    {
      "cell_type": "code",
      "source": [
        "lado_1 = float(input('Ingrese el primer lado del triángulo: '))\n",
        "lado_2 = float(input('Ingrese el segundo lado del triángulo: '))\n",
        "lado_3 = float(input('Ingrese el tercer lado del triángulo: '))\n",
        "\n",
        "if lado_1 + lado_2 > lado_3 and lado_1 + lado_3 > lado_2 and lado_2 + lado_3 > lado_1:\n",
        "  print('\\nSe puede formar un triángulo')\n",
        "  if lado_1 == lado_2 == lado_3:\n",
        "    print('El triángulo es equilátero')\n",
        "  elif lado_1 == lado_2 or lado_1 == lado_3 or lado_2 == lado_3:\n",
        "    print('El triángulo es isósceles')\n",
        "  else:\n",
        "    print('El triángulo es escaleno')\n",
        "else:\n",
        "  print('No se puede formar un triángulo')"
      ],
      "metadata": {
        "colab": {
          "base_uri": "https://localhost:8080/"
        },
        "id": "jOC2X8aq1H_i",
        "outputId": "b6afea9e-2333-40e6-af32-d779fe6e4ce3"
      },
      "execution_count": 54,
      "outputs": [
        {
          "output_type": "stream",
          "name": "stdout",
          "text": [
            "Ingrese el primer lado del triángulo: 15\n",
            "Ingrese el segundo lado del triángulo: 25\n",
            "Ingrese el tercer lado del triángulo: 30\n",
            "\n",
            "Se puede formar un triángulo\n",
            "El triángulo es escaleno\n"
          ]
        }
      ]
    },
    {
      "cell_type": "markdown",
      "source": [
        "Un establecimiento está vendiendo combustibles con descuentos variables. Para el etanol, si la cantidad comprada es de hasta 15 litros, el descuento será del 2% por litro. En caso contrario, será del 4% por litro. Para el diésel, si la cantidad comprada es de hasta 15 litros, el descuento será del 3% por litro. En caso contrario, será del 5% por litro. El precio por litro de diésel es de R$ 2,00 y el precio por litro de etanol es de R$ 1,70. Escribe un programa que lea la cantidad de litros vendidos y el tipo de combustible (E para etanol y D para diésel) y calcule el valor a pagar por el cliente. Ten en cuenta algunas sugerencias:\n",
        "\n",
        "* El valor del descuento será el producto del precio por litro, la cantidad de litros y el valor del descuento.\n",
        "* El valor a pagar por un cliente será el resultado de la multiplicación del precio por litro por la cantidad de litros menos el valor del descuento resultante del cálculo."
      ],
      "metadata": {
        "id": "kd1fBD0EdLsF"
      }
    },
    {
      "cell_type": "code",
      "source": [
        "print('Bienvenido a PetroPerú!')\n",
        "combustible_usuario = input('Ingrese E si desea llenar su auto con Etanol o D si desea llenar su auto con Diésel: ')\n",
        "combustible_usuario = combustible_usuario.strip().upper()\n",
        "\n",
        "litros_usuario = float(input('Ingrese la cantidad de litros que desea llenar: '))\n",
        "\n",
        "precio_etanol = 1.70\n",
        "precio_diesel = 2.00\n",
        "\n",
        "if combustible_usuario == 'E':\n",
        "  if litros_usuario <= 15:\n",
        "    descuento = (precio_etanol * litros_usuario) * 0.02\n",
        "  else:\n",
        "    descuento = (precio_etanol * litros_usuario) * 0.04\n",
        "  valor_a_pagar = (precio_etanol * litros_usuario) - descuento\n",
        "  print(f\"El valor total ha pagar es de: ${valor_a_pagar:.2f}\")\n",
        "elif combustible_usuario == 'D':\n",
        "  if litros_usuario <= 15:\n",
        "    descuento = (precio_diesel * litros_usuario) * 0.03\n",
        "  else:\n",
        "    descuento = (precio_diesel * litros_usuario) * 0.05\n",
        "  valor_a_pagar = (precio_diesel * litros_usuario) - descuento\n",
        "  print(f\"El valor total ha pagar es de: ${valor_a_pagar:.2f}\")\n",
        "else:\n",
        "  print('Tipo de combustible inválido')"
      ],
      "metadata": {
        "colab": {
          "base_uri": "https://localhost:8080/"
        },
        "id": "rytEyUUZ4ltB",
        "outputId": "9045afcb-517b-4fb8-ed4e-e0784410b729"
      },
      "execution_count": 59,
      "outputs": [
        {
          "output_type": "stream",
          "name": "stdout",
          "text": [
            "Bienvenido a PetroPerú!\n",
            "Ingrese E si desea llenar su auto con Etanol o D si desea llenar su auto con Diésel: D\n",
            "Ingrese la cantidad de litros que desea llenar: 15\n",
            "El valor total ha pagar es de: $29.10\n"
          ]
        }
      ]
    },
    {
      "cell_type": "markdown",
      "source": [
        "En una empresa de venta de bienes raíces, debes crear un código que analice los datos de ventas anuales para ayudar a la dirección en la toma de decisiones. El código debe recopilar los datos de cantidad de ventas durante los años 2022 y 2023 y calcular la variación porcentual. A partir del valor de la variación, se deben proporcionar las siguientes sugerencias:\n",
        "\n",
        "* Para una variación superior al 20%: bonificación para el equipo de ventas.\n",
        "* Para una variación entre el 2% y el 20%: pequeña bonificación para el equipo de ventas.\n",
        "* Para una variación entre el 2% y el -10%: planificación de políticas de incentivo a las ventas.\n",
        "* Para bonificaciones inferiores al -10%: recorte de gastos."
      ],
      "metadata": {
        "id": "OVNQbZcHdP7t"
      }
    },
    {
      "cell_type": "code",
      "source": [
        "ventas_2022 = float(input('Ingrese la cantidad de ventas del año 2022: '))\n",
        "ventas_2023 = float(input('Ingrese la cantidad de ventas del año 2023: '))\n",
        "\n",
        "variacion_porcentual = ((ventas_2023 - ventas_2022) / ventas_2022) * 100\n",
        "\n",
        "if variacion_porcentual > 20:\n",
        "  print(f\"Bonificación para el equipo de ventas al haber obtenido una variación del {variacion_porcentual:.2f}%\")\n",
        "elif variacion_porcentual >= 2 and variacion_porcentual <= 20:\n",
        "  print(f\"Pequeña bonificación para el equipo de ventas al haber obtenido una variación del {variacion_porcentual:.2f}%\")\n",
        "elif variacion_porcentual >= -10 and variacion_porcentual < 2:\n",
        "  print(f\"Planificación de políticas de incentivo a las ventas al haber obtenido una variación del {variacion_porcentual:.2f}%\")\n",
        "else:\n",
        "  print(f\"Recorte de gastos al haber obtenido una variación del {variacion_porcentual:.2f}%\")"
      ],
      "metadata": {
        "colab": {
          "base_uri": "https://localhost:8080/"
        },
        "id": "fu1_dNwy_BOo",
        "outputId": "30245e87-88da-4337-f0c0-37caa283a360"
      },
      "execution_count": 64,
      "outputs": [
        {
          "output_type": "stream",
          "name": "stdout",
          "text": [
            "Ingrese la cantidad de ventas del año 2022: 15600\n",
            "Ingrese la cantidad de ventas del año 2023: 18000\n",
            "Pequeña bonificación para el equipo de ventas al haber obtenido una variación del 15.38%\n"
          ]
        }
      ]
    }
  ]
}