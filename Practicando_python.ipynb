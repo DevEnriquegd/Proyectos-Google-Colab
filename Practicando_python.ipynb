{
  "nbformat": 4,
  "nbformat_minor": 0,
  "metadata": {
    "colab": {
      "provenance": [],
      "authorship_tag": "ABX9TyMOMPfOVJA/5XBrhXZEGOJj",
      "include_colab_link": true
    },
    "kernelspec": {
      "name": "python3",
      "display_name": "Python 3"
    },
    "language_info": {
      "name": "python"
    }
  },
  "cells": [
    {
      "cell_type": "markdown",
      "metadata": {
        "id": "view-in-github",
        "colab_type": "text"
      },
      "source": [
        "<a href=\"https://colab.research.google.com/github/DevEnriquegd/Proyectos-Google-Colab/blob/main/Practicando_python.ipynb\" target=\"_parent\"><img src=\"https://colab.research.google.com/assets/colab-badge.svg\" alt=\"Open In Colab\"/></a>"
      ]
    },
    {
      "cell_type": "markdown",
      "source": [
        "Bruno gestiona un pequeño comercio y quiere saber qué producto tuvo el mejor desempeño de ventas el mes pasado. Registró la cantidad vendida de dos productos: manzanas y plátanos. Ahora, necesita escribir un programa que identifique y muestre cuál de ellos tuvo más ventas.\n",
        "\n",
        "Crea un programa que reciba el número de ventas de los dos productos y muestre un mensaje indicando cuál de ellos vendió más. Si las cantidades son iguales, muestra un mensaje diciendo que hubo un empate."
      ],
      "metadata": {
        "id": "-vDrYp8ZKtnC"
      }
    },
    {
      "cell_type": "code",
      "source": [
        "ventas_productos = {'Manzanas': 0.00, 'Plátanos': 0.00}\n",
        "\n",
        "for producto in ventas_productos:\n",
        "    ventas_productos[producto] = float(input(f'Ingrese la cantidad de ventas de {producto}: '))\n",
        "\n",
        "producto_mas_ventas = max(ventas_productos, key=ventas_productos.get)\n",
        "\n",
        "if ventas_productos['Manzanas'] == ventas_productos['Plátanos']:\n",
        "    print('Ambos productos tuvieron la misma cantidad de ventas')\n",
        "else:\n",
        "    print(f'El producto que más vendió fue {producto_mas_ventas}')"
      ],
      "metadata": {
        "colab": {
          "base_uri": "https://localhost:8080/"
        },
        "id": "wRI1J3GsKzcY",
        "outputId": "c3561191-c222-440e-8e77-5a00969a2f6e"
      },
      "execution_count": 6,
      "outputs": [
        {
          "output_type": "stream",
          "name": "stdout",
          "text": [
            "Ingrese la cantidad de ventas de Manzanas: 15\n",
            "Ingrese la cantidad de ventas de Plátanos: 15\n",
            "Ambos productos tuvieron la misma cantidad de ventas\n"
          ]
        }
      ]
    },
    {
      "cell_type": "markdown",
      "source": [
        "Lucas trabaja en TI y necesita garantizar que la temperatura de una sala de servidores no supere los 25°C. Quiere un programa que reciba la temperatura actual como entrada y, si es necesario, muestre un mensaje de alerta."
      ],
      "metadata": {
        "id": "9eFddRbJMikX"
      }
    },
    {
      "cell_type": "code",
      "source": [
        "registro_temperatura = float(input('Ingrese la temperatura actual de la sala de servidores: '))\n",
        "\n",
        "while registro_temperatura >= 25:\n",
        "  print('Se requiere bajar la temperatura de la sala de servidores, no puede estar por encima de 25°C')\n",
        "  registro_temperatura = float(input('Ingrese la temperatura actual de la sala de servidores: '))\n",
        "\n",
        "print('Temperatura establecida')"
      ],
      "metadata": {
        "colab": {
          "base_uri": "https://localhost:8080/"
        },
        "id": "nj0sCi8EMkwP",
        "outputId": "91641959-15bf-4218-e3f4-e13cf37a7c7d"
      },
      "execution_count": 1,
      "outputs": [
        {
          "output_type": "stream",
          "name": "stdout",
          "text": [
            "Ingrese la temperatura actual de la sala de servidores: 25\n",
            "Se requiere bajar la temperatura de la sala de servidores, no puede estar por encima de 25°C\n",
            "Ingrese la temperatura actual de la sala de servidores: 26\n",
            "Se requiere bajar la temperatura de la sala de servidores, no puede estar por encima de 25°C\n",
            "Ingrese la temperatura actual de la sala de servidores: 23\n",
            "Temperatura establecida\n"
          ]
        }
      ]
    },
    {
      "cell_type": "markdown",
      "source": [
        "Camila está organizando un proyecto y necesita calcular el tiempo total necesario para concluir tres actividades: A, B y C. Sin embargo, si alguna actividad tiene un número de días negativo, el código debe avisar que los valores ingresados son inválidos y no calcular el total.\n",
        "\n",
        "Escribe un programa que reciba el número de días de tres actividades y muestre el tiempo total del proyecto. Si algún valor es negativo, muestra un mensaje informando el error."
      ],
      "metadata": {
        "id": "VQO9Z6gzOtlH"
      }
    },
    {
      "cell_type": "code",
      "source": [
        "actividad_1 = int(input('Ingrese el número de días de la primera actividad: '))\n",
        "actividad_2 = int(input('Ingrese el número de días de la segunda actividad: '))\n",
        "actividad_3 = int(input('Ingrese el número de días de la tercera actividad: '))\n",
        "\n",
        "if actividad_1 < 0 or actividad_2 < 0 or actividad_3 < 0:\n",
        "  print('Los valores ingresados son inválidos')\n",
        "else:\n",
        "  print(f'El tiempo total del proyecto es de {actividad_1 + actividad_2 + actividad_3} días')"
      ],
      "metadata": {
        "colab": {
          "base_uri": "https://localhost:8080/"
        },
        "id": "RmP6haQcOy82",
        "outputId": "ef5f572a-d6b2-4d51-f918-709f5543e169"
      },
      "execution_count": 3,
      "outputs": [
        {
          "output_type": "stream",
          "name": "stdout",
          "text": [
            "Ingrese el número de días de la primera actividad: 25\n",
            "Ingrese el número de días de la segunda actividad: 26\n",
            "Ingrese el número de días de la tercera actividad: 30\n",
            "El tiempo total del proyecto es de 81 días\n"
          ]
        }
      ]
    },
    {
      "cell_type": "markdown",
      "source": [
        "Anna Júlia está creando un sistema para calcular el Índice de Masa Corporal (IMC) y proporcionar recomendaciones básicas. El programa debe recibir el peso y la altura de una persona y mostrar el valor del IMC, además de indicar si está por debajo del peso, con peso normal o por encima del peso. Crea un programa que reciba el peso (en kg) y la altura (en metros) y calcule el IMC usando la fórmula: IMC = peso / (altura ** 2)Luego, muestra el valor del IMC y un mensaje indicando si está por debajo del peso (IMC < 18.5), peso normal (18.5 <= IMC < 25) o por encima del peso (IMC >= 25)."
      ],
      "metadata": {
        "id": "J3t94z_kPcDT"
      }
    },
    {
      "cell_type": "code",
      "source": [
        "print('Bienvenido al programa para calcular su IMC')\n",
        "print('Para ingresar su peso hagalo de la siguiente manera: 72.35')\n",
        "print('Para ingresar su altura hagalo de la siguiente manera: 1.85\\n')\n",
        "\n",
        "peso = float(input('Ingrese su peso en kg: '))\n",
        "altura = float(input('Ingrese su altura en metros: '))\n",
        "\n",
        "imc = peso / (altura ** 2)\n",
        "\n",
        "if imc >= 25:\n",
        "  print(f'Su IMC es de {imc:.2f}, por encima del peso')\n",
        "elif imc >= 18.5:\n",
        "  print(f'Su IMC es de {imc:.2f}, con peso normal')\n",
        "else:\n",
        "  print(f'Su IMC es de {imc:.2f}, por debajo del peso')"
      ],
      "metadata": {
        "colab": {
          "base_uri": "https://localhost:8080/"
        },
        "id": "C2zhgkxUPc1f",
        "outputId": "e4a075c3-9c3d-4bc5-a891-e716d436f4c4"
      },
      "execution_count": 8,
      "outputs": [
        {
          "output_type": "stream",
          "name": "stdout",
          "text": [
            "Bienvenido al programa para calcular su IMC\n",
            "Para ingresar su peso hagalo de la siguiente manera: 72.35\n",
            "Para ingresar su altura hagalo de la siguiente manera: 1.85\n",
            "\n",
            "Ingrese su peso en kg: 45.85\n",
            "Ingrese su altura en metros: 1.26\n",
            "Su IMC es de 28.88, por encima del peso\n"
          ]
        }
      ]
    },
    {
      "cell_type": "markdown",
      "source": [
        "Laura está desarrollando un sistema para saber si una persona tiene derecho a recibir un beneficio social. Para eso, la persona debe cumplir las siguientes condiciones:\n",
        "\n",
        "Tener ingresos menores o iguales a $2,000.\n",
        "Tener al menos un hijo o hija.\n",
        "Crea un programa que reciba los ingresos mensuales y la cantidad de hijos de una persona, y diga si tiene derecho al beneficio."
      ],
      "metadata": {
        "id": "WXf99AP4QaQC"
      }
    },
    {
      "cell_type": "code",
      "source": [
        "ingresos_mensuales = float(input('Ingrese sus ingresos mensuales: '))\n",
        "cantidad_hijos = int(input('Ingrese la cantidad de hijos o hijas que tiene: '))\n",
        "\n",
        "if ingresos_mensuales <= 2000 and cantidad_hijos >= 1:\n",
        "  print('Usted tiene derecho al beneficio social')\n",
        "else:\n",
        "  print('Usted no tiene derecho al beneficio social')"
      ],
      "metadata": {
        "colab": {
          "base_uri": "https://localhost:8080/"
        },
        "id": "B1RdCs7UQayR",
        "outputId": "365d9df4-27e0-486d-a003-b230887ac222"
      },
      "execution_count": 9,
      "outputs": [
        {
          "output_type": "stream",
          "name": "stdout",
          "text": [
            "Ingrese sus ingresos mensuales: 2000\n",
            "Ingrese la cantidad de hijos o hijas que tiene: 1\n",
            "Usted tiene derecho al beneficio social\n"
          ]
        }
      ]
    },
    {
      "cell_type": "markdown",
      "source": [
        "Una empresa evalúa a sus empleados con base en dos criterios:\n",
        "\n",
        "Puntuación de desempeño (de 0 a 10)\n",
        "Años trabajados\n",
        "Reglas:\n",
        "\n",
        "Si la puntuación es mayor o igual a 7:\n",
        "Si trabajó más de 5 años: \"Elegible para ascenso\"\n",
        "Si trabajó 5 años o menos: \"Buen desempeño, sigue así\"\n",
        "Si la puntuación es menor a 7: \"Necesita mejorar\""
      ],
      "metadata": {
        "id": "bqPRYduJRnVz"
      }
    },
    {
      "cell_type": "code",
      "source": [
        "puntuacion_desempeño = int(input('Ingrese su puntuación de desempeño del 1 al 10: '))\n",
        "años_trabajados = int(input('Ingrese la cantidad de años que ha trabajado en la empresa: '))\n",
        "\n",
        "if puntuacion_desempeño >= 7:\n",
        "  if años_trabajados > 5:\n",
        "    print('Elegible para ascenso')\n",
        "  else:\n",
        "    print('Buen desempeño, sigue así')\n",
        "else:\n",
        "  print('Necesita mejorar')"
      ],
      "metadata": {
        "colab": {
          "base_uri": "https://localhost:8080/"
        },
        "id": "FBDdN8g6RoKB",
        "outputId": "c9d30ed1-6f27-4d27-a33e-012b3d34f2b8"
      },
      "execution_count": 13,
      "outputs": [
        {
          "output_type": "stream",
          "name": "stdout",
          "text": [
            "Ingrese su puntuación de desempeño del 1 al 10: 8\n",
            "Ingrese la cantidad de años que ha trabajado en la empresa: 6\n",
            "Elegible para ascenso\n"
          ]
        }
      ]
    },
    {
      "cell_type": "markdown",
      "source": [
        "Estás desarrollando un pequeño juego. El usuario ingresa un número entero y el programa debe evaluar lo siguiente:\n",
        "\n",
        "Si el número es divisible por 3 y 5, muestra: \"¡Número mágico!\"\n",
        "Si solo es divisible por 3, muestra: \"Divisible por 3\"\n",
        "Si solo es divisible por 5, muestra: \"Divisible por 5\"\n",
        "Si no es divisible por ninguno, muestra: \"No es un número mágico\""
      ],
      "metadata": {
        "id": "MbnOdqd4SUPV"
      }
    },
    {
      "cell_type": "code",
      "source": [
        "numero_usuario = int(input('Ingrese un número entero: '))\n",
        "\n",
        "if numero_usuario % 3 == 0 and numero_usuario % 5 == 0:\n",
        "  print('¡Número mágico!')\n",
        "elif numero_usuario % 3 == 0:\n",
        "  print('Divisible por 3')\n",
        "elif numero_usuario % 5 == 0:\n",
        "  print('Divisible por 5')\n",
        "else:\n",
        "  print('No es un número mágico')"
      ],
      "metadata": {
        "colab": {
          "base_uri": "https://localhost:8080/"
        },
        "id": "bb91LuqdSVK1",
        "outputId": "df4871b7-3478-4a93-eea3-d2787242039b"
      },
      "execution_count": 17,
      "outputs": [
        {
          "output_type": "stream",
          "name": "stdout",
          "text": [
            "Ingrese un número entero: 7\n",
            "No es un número mágico\n"
          ]
        }
      ]
    },
    {
      "cell_type": "markdown",
      "source": [
        "Una escuela otorga becas según tres criterios:\n",
        "\n",
        "Ingreso familiar mensual.\n",
        "Promedio del estudiante.\n",
        "Asistencia (en porcentaje).\n",
        "\n",
        "Reglas:\n",
        "\n",
        "1. Si el ingreso es menor a $1,500 y el promedio es mayor a 8.0 y la asistencia es al menos 90% → \"Beca completa\"\n",
        "2. Si el ingreso es menor a $2,500 y promedio mayor a 7.0 y asistencia al menos 85% → \"Media beca\"\n",
        "3. En otros casos → \"No elegible para beca\""
      ],
      "metadata": {
        "id": "ZX3C5N9MTZ8t"
      }
    },
    {
      "cell_type": "code",
      "source": [
        "ingreso_familiar_mensual = float(input('Ingrese su ingreso familiar mensual: '))\n",
        "promedio_estudiante = float(input('Ingrese su promedio académico: '))\n",
        "asistencia_estudiante = float(input('Ingrese su asistencia al semestre en porcentaje: '))\n",
        "\n",
        "if ingreso_familiar_mensual < 1500 and promedio_estudiante > 8.0 and asistencia_estudiante >= 90:\n",
        "  print('Beca completa')\n",
        "elif ingreso_familiar_mensual < 2500 and promedio_estudiante > 7.0 and asistencia_estudiante >= 85:\n",
        "  print('Media beca')\n",
        "else:\n",
        "  print('No elegible para beca')"
      ],
      "metadata": {
        "colab": {
          "base_uri": "https://localhost:8080/"
        },
        "id": "04l3bEYUTbB6",
        "outputId": "44c27f31-5e2b-464a-cbf0-f66a6a465a56"
      },
      "execution_count": 20,
      "outputs": [
        {
          "output_type": "stream",
          "name": "stdout",
          "text": [
            "Ingrese su ingreso familiar mensual: 1500\n",
            "Ingrese su promedio académico: 9\n",
            "Ingrese su asistencia al semestre en porcentaje: 80\n",
            "No elegible para beca\n"
          ]
        }
      ]
    },
    {
      "cell_type": "markdown",
      "source": [
        "Un sistema de transporte cobra según la edad del pasajero y la distancia recorrida:\n",
        "\n",
        "Menores de 6 años: Viajan gratis.\n",
        "\n",
        "De 6 a 18 años:\n",
        "* Hasta 20 km: $1.50\n",
        "* Más de 20 km: $2.50\n",
        "\n",
        "Mayores de 18:\n",
        "* Hasta 20 km: $2.50\n",
        "* Más de 20 km: $4.00\n",
        "\n",
        "Crea un programa que reciba la edad y distancia, y muestre el valor a pagar."
      ],
      "metadata": {
        "id": "Sz0s7OOHUEST"
      }
    },
    {
      "cell_type": "code",
      "source": [
        "edad_pasajero = int(input('Ingrese su edad: '))\n",
        "distancia_recorrida = float(input('Ingrese la distancia recorrida en km: '))\n",
        "total_a_pagar = 0\n",
        "\n",
        "if edad_pasajero < 6:\n",
        "  print('Viajan gratis')\n",
        "elif edad_pasajero >= 6 and edad_pasajero <= 18:\n",
        "  if distancia_recorrida <= 20:\n",
        "    total_a_pagar = 1.50\n",
        "  else:\n",
        "    total_a_pagar = 2.50\n",
        "else:\n",
        "  if distancia_recorrida <= 20:\n",
        "    total_a_pagar = 2.50\n",
        "  else:\n",
        "    total_a_pagar = 4.00\n",
        "\n",
        "print(f'El total a pagar es: ${total_a_pagar}')"
      ],
      "metadata": {
        "colab": {
          "base_uri": "https://localhost:8080/"
        },
        "id": "EMAWCHGMUUkF",
        "outputId": "5c6fceb2-8b94-480c-ce53-2048e438a30a"
      },
      "execution_count": 26,
      "outputs": [
        {
          "output_type": "stream",
          "name": "stdout",
          "text": [
            "Ingrese su edad: 19\n",
            "Ingrese la distancia recorrida en km: 40\n",
            "El total a pagar es: $4.0\n"
          ]
        }
      ]
    },
    {
      "cell_type": "markdown",
      "source": [
        "Una empresa evalúa su trimestre con base en:\n",
        "\n",
        "1. Ingresos totales\n",
        "2. Gastos totales\n",
        "3. Número de nuevos clientes\n",
        "\n",
        "Clasificación:\n",
        "\n",
        "* Si ingresos - gastos > $10,000 y más de 50 nuevos clientes → \"Trimestre Excelente\"\n",
        "* Si ingresos - gastos > $5,000 y al menos 20 clientes → \"Trimestre Bueno\"\n",
        "* Si ingresos - gastos > 0 → \"Trimestre Regular\"\n",
        "* Si ingresos - gastos ≤ 0 → \"Trimestre Deficitario\"\n"
      ],
      "metadata": {
        "id": "sbJRIdiQVLQx"
      }
    },
    {
      "cell_type": "code",
      "source": [
        "ingresos_totales = float(input('Ingrese sus ingresos totales: '))\n",
        "gastos_totales = float(input('Ingrese sus gastos totales: '))\n",
        "nuevos_clientes = int(input('Ingrese la cantidad de nuevos clientes: '))\n",
        "\n",
        "utilidad = ingresos_totales - gastos_totales\n",
        "\n",
        "if utilidad > 10000 and nuevos_clientes > 50:\n",
        "  print('Trimestre Excelente')\n",
        "elif utilidad > 5000 and nuevos_clientes >= 20:\n",
        "  print('Trimestre Bueno')\n",
        "else:\n",
        "  if utilidad > 0:\n",
        "    print('Trimestre Regular')\n",
        "  else:\n",
        "    print('Trimestre Deficitario')"
      ],
      "metadata": {
        "colab": {
          "base_uri": "https://localhost:8080/"
        },
        "id": "yM1agut6VTEP",
        "outputId": "4aafce79-c9ac-473d-fe33-f68a2a9fc065"
      },
      "execution_count": 28,
      "outputs": [
        {
          "output_type": "stream",
          "name": "stdout",
          "text": [
            "Ingrese sus ingresos totales: 15000\n",
            "Ingrese sus gastos totales: 51\n",
            "Ingrese la cantidad de nuevos clientes: 51\n",
            "Trimestre Excelente\n"
          ]
        }
      ]
    }
  ]
}