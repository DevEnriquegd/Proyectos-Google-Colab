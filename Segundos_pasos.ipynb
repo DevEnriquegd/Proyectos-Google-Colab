{
  "nbformat": 4,
  "nbformat_minor": 0,
  "metadata": {
    "colab": {
      "provenance": [],
      "authorship_tag": "ABX9TyOL1K3ZsnZB5Azztotzdtne",
      "include_colab_link": true
    },
    "kernelspec": {
      "name": "python3",
      "display_name": "Python 3"
    },
    "language_info": {
      "name": "python"
    }
  },
  "cells": [
    {
      "cell_type": "markdown",
      "metadata": {
        "id": "view-in-github",
        "colab_type": "text"
      },
      "source": [
        "<a href=\"https://colab.research.google.com/github/DevEnriquegd/Proyectos-Google-Colab/blob/main/Segundos_pasos.ipynb\" target=\"_parent\"><img src=\"https://colab.research.google.com/assets/colab-badge.svg\" alt=\"Open In Colab\"/></a>"
      ]
    },
    {
      "cell_type": "markdown",
      "source": [
        "## Recopilación y muestra de datos"
      ],
      "metadata": {
        "id": "sr9T2RO91h2t"
      }
    },
    {
      "cell_type": "markdown",
      "source": [
        "Crea un programa que solicite al usuario que escriba su nombre y luego imprima \"Hola, [nombre].\"\n"
      ],
      "metadata": {
        "id": "2vad-FXo1UNf"
      }
    },
    {
      "cell_type": "code",
      "source": [
        "nombre_usuario = input('Ingrese su nombre: ')\n",
        "\n",
        "print(f'Hola, {nombre_usuario}')"
      ],
      "metadata": {
        "colab": {
          "base_uri": "https://localhost:8080/"
        },
        "id": "qrv1ie532Pjo",
        "outputId": "e5c95b6d-8965-4c59-c12e-4607573b3bb9"
      },
      "execution_count": null,
      "outputs": [
        {
          "output_type": "stream",
          "name": "stdout",
          "text": [
            "Ingrese su nombre: Felipe\n",
            "Hola, Felipe\n"
          ]
        }
      ]
    },
    {
      "cell_type": "markdown",
      "source": [
        "Crea un programa que solicite al usuario que escriba su nombre y edad, y luego imprima \"Hola, [nombre], tienes [edad] años.\""
      ],
      "metadata": {
        "id": "9kEuSd1N1dTy"
      }
    },
    {
      "cell_type": "code",
      "source": [
        "nombre_usuario = input('Ingrese su nombre: ')\n",
        "edad_usuario = input('Ingrese su edad: ')\n",
        "\n",
        "print(f'Hola, {nombre_usuario}, tienes {edad_usuario} años.')"
      ],
      "metadata": {
        "colab": {
          "base_uri": "https://localhost:8080/"
        },
        "id": "J7AGNFMd2cJG",
        "outputId": "5f9e7483-abd9-4f6a-e2b8-1a73c41733e8"
      },
      "execution_count": null,
      "outputs": [
        {
          "output_type": "stream",
          "name": "stdout",
          "text": [
            "Ingrese su nombre: Felipe\n",
            "Ingrese su edad: 25\n",
            "Hola, Felipe, tienes 25 años.\n"
          ]
        }
      ]
    },
    {
      "cell_type": "markdown",
      "source": [
        "Crea un programa que solicite al usuario que escriba su nombre, edad y altura en metros, y luego imprima \"Hola, [nombre], tienes [edad] años y mides [altura] metros.\""
      ],
      "metadata": {
        "id": "nymguOIx1gIR"
      }
    },
    {
      "cell_type": "code",
      "source": [
        "nombre_usuario = input('Ingrese su nombre: ')\n",
        "edad_usuario = int(input('Ingrese su edad: '))\n",
        "altura_usuario = float(input('Ingrese su altura en metros: '))\n",
        "\n",
        "print(f'Hola, {nombre_usuario}, tienes {edad_usuario} años y mides {altura_usuario:.2f} metros.')"
      ],
      "metadata": {
        "colab": {
          "base_uri": "https://localhost:8080/"
        },
        "id": "O0lof1Ul2jfG",
        "outputId": "37fdf255-1327-4c13-abbb-4f0da350dbec"
      },
      "execution_count": null,
      "outputs": [
        {
          "output_type": "stream",
          "name": "stdout",
          "text": [
            "Ingrese su nombre: Manuel\n",
            "Ingrese su edad: 30\n",
            "Ingrese su altura en metros: 1.85\n",
            "Hola, Manuel, tienes 30 años y mides 1.85 metros.\n"
          ]
        }
      ]
    },
    {
      "cell_type": "markdown",
      "source": [
        "## Calculadora con operadores"
      ],
      "metadata": {
        "id": "PxbBMDUa1lLd"
      }
    },
    {
      "cell_type": "markdown",
      "source": [
        "Crea un programa que solicite dos valores numéricos al usuario y luego imprima la suma de ambos valores."
      ],
      "metadata": {
        "id": "MfxD_URT1pFn"
      }
    },
    {
      "cell_type": "code",
      "source": [
        "primer_valor = int(input('Ingrese el primer valor númerico: '))\n",
        "segundo_valor = int(input('Ingrese el segundo valor númerico: '))\n",
        "\n",
        "print(f'La suma de los valores ingresados es: {primer_valor + segundo_valor}')"
      ],
      "metadata": {
        "colab": {
          "base_uri": "https://localhost:8080/"
        },
        "id": "G8bafEd225Sa",
        "outputId": "915b7612-9bdb-4931-d019-8b87c78cba48"
      },
      "execution_count": null,
      "outputs": [
        {
          "output_type": "stream",
          "name": "stdout",
          "text": [
            "Ingrese el primer valor númerico: 65\n",
            "Ingrese el segundo valor númerico: 26\n",
            "La suma de los valores ingresados es: 91\n"
          ]
        }
      ]
    },
    {
      "cell_type": "markdown",
      "source": [
        "Crea un programa que solicite tres valores numéricos al usuario y luego imprima la suma de los tres valores."
      ],
      "metadata": {
        "id": "kyk69cwz1pv_"
      }
    },
    {
      "cell_type": "code",
      "source": [
        "primer_valor = int(input('Ingrese el primer valor númerico: '))\n",
        "segundo_valor = int(input('Ingrese el segundo valor númerico: '))\n",
        "tercer_valor = int(input('Ingrese el tercer valor númerico: '))\n",
        "\n",
        "print(f'La suma de los valores ingresados es: {primer_valor + segundo_valor + tercer_valor}')"
      ],
      "metadata": {
        "colab": {
          "base_uri": "https://localhost:8080/"
        },
        "id": "L3orjWa13PMI",
        "outputId": "c8fb0c90-66c5-4956-ee7d-7cdf4aee5976"
      },
      "execution_count": null,
      "outputs": [
        {
          "output_type": "stream",
          "name": "stdout",
          "text": [
            "Ingrese el primer valor númerico: 285\n",
            "Ingrese el segundo valor númerico: 14\n",
            "Ingrese el tercer valor númerico: 32\n",
            "La suma de los valores ingresados es: 331\n"
          ]
        }
      ]
    },
    {
      "cell_type": "markdown",
      "source": [
        "Crea un programa que solicite dos valores numéricos al usuario y luego imprima la resta del primero menos el segundo valor."
      ],
      "metadata": {
        "id": "Sp3-fIJc1rOQ"
      }
    },
    {
      "cell_type": "code",
      "source": [
        "primer_valor = int(input('Ingrese el primer valor númerico: '))\n",
        "segundo_valor = int(input('Ingrese el segundo valor númerico: '))\n",
        "\n",
        "print(f'La resta del primer valor menos el segundo valor es: {primer_valor - segundo_valor}')"
      ],
      "metadata": {
        "colab": {
          "base_uri": "https://localhost:8080/"
        },
        "id": "u_wB2G8f3Xkr",
        "outputId": "1dc917ac-c297-4fc1-d4fb-46fed3e5c92d"
      },
      "execution_count": null,
      "outputs": [
        {
          "output_type": "stream",
          "name": "stdout",
          "text": [
            "Ingrese el primer valor númerico: 24\n",
            "Ingrese el segundo valor númerico: 35\n",
            "La resta del primer valor menos el segundo valor es: -11\n"
          ]
        }
      ]
    },
    {
      "cell_type": "markdown",
      "source": [
        "Crea un programa que solicite dos valores numéricos al usuario y luego imprima la multiplicación de los dos valores."
      ],
      "metadata": {
        "id": "JiyY32L21sfe"
      }
    },
    {
      "cell_type": "code",
      "source": [
        "primer_valor = int(input('Ingrese el primer valor númerico: '))\n",
        "segundo_valor = int(input('Ingrese el segundo valor númerico: '))\n",
        "\n",
        "print(f'La multiplicación de los valores ingresados es: {primer_valor * segundo_valor}')"
      ],
      "metadata": {
        "colab": {
          "base_uri": "https://localhost:8080/"
        },
        "id": "ECXCyFwB5OaS",
        "outputId": "ab24e67f-a2ec-44c4-cb33-ab0e206dd493"
      },
      "execution_count": null,
      "outputs": [
        {
          "output_type": "stream",
          "name": "stdout",
          "text": [
            "Ingrese el primer valor númerico: 26\n",
            "Ingrese el segundo valor númerico: 8\n",
            "La multiplicación de los valores ingresados es: 208\n"
          ]
        }
      ]
    },
    {
      "cell_type": "markdown",
      "source": [
        "Crea un programa que solicite dos valores numéricos, un numerador y un denominador, y realice la división entre los dos valores. Asegúrate de que el valor del denominador no sea igual a 0."
      ],
      "metadata": {
        "id": "uBwsVEO41wJo"
      }
    },
    {
      "cell_type": "code",
      "source": [
        "primer_valor = int(input('Ingrese el numerador: '))\n",
        "segundo_valor = int(input('Ingrese el denominador: '))\n",
        "if(segundo_valor == 0):\n",
        "    print('El denominador no puede ser 0')\n",
        "else:\n",
        "  print(f'La división de los valores ingresados es: {float(primer_valor / segundo_valor):.2f}')"
      ],
      "metadata": {
        "colab": {
          "base_uri": "https://localhost:8080/"
        },
        "id": "p2XDJclr5anG",
        "outputId": "1b4d7911-9ae4-4a08-ad9c-50bd0a54e913"
      },
      "execution_count": null,
      "outputs": [
        {
          "output_type": "stream",
          "name": "stdout",
          "text": [
            "Ingrese el numerador: 45\n",
            "Ingrese el denominador: 17\n",
            "La división de los valores ingresados es: 2.65\n"
          ]
        }
      ]
    },
    {
      "cell_type": "markdown",
      "source": [
        "Crea un programa que solicite dos valores numéricos, un operador y una potencia, y realice la exponenciación entre estos dos valores."
      ],
      "metadata": {
        "id": "jWqS-uEh1x4r"
      }
    },
    {
      "cell_type": "code",
      "source": [
        "primer_valor = int(input('Ingrese el primer valor númerico: '))\n",
        "segundo_valor = int(input('Ingrese el segundo valor númerico: '))\n",
        "\n",
        "print(f'La exponenciación de los valores ingresados es: {primer_valor ** segundo_valor}')"
      ],
      "metadata": {
        "colab": {
          "base_uri": "https://localhost:8080/"
        },
        "id": "JzLkUzx272jk",
        "outputId": "368baa6c-0887-4d5b-8493-714f16778860"
      },
      "execution_count": null,
      "outputs": [
        {
          "output_type": "stream",
          "name": "stdout",
          "text": [
            "Ingrese el primer valor númerico: 35\n",
            "Ingrese el segundo valor númerico: 8\n",
            "La exponenciación de los valores ingresados es: 2251875390625\n"
          ]
        }
      ]
    },
    {
      "cell_type": "markdown",
      "source": [
        "Crea un programa que solicite dos valores numéricos, un numerador y un denominador, y realice la división entera entre los dos valores. Asegúrate de que el valor del denominador no sea igual a 0."
      ],
      "metadata": {
        "id": "3j2Ndh-71627"
      }
    },
    {
      "cell_type": "code",
      "source": [
        "primer_valor = int(input('Ingrese el numerador: '))\n",
        "segundo_valor = int(input('Ingrese el denominador: '))\n",
        "if(segundo_valor == 0):\n",
        "    print('El denominador no puede ser 0')\n",
        "else:\n",
        "  print(f'La división de los valores ingresados es: {primer_valor // segundo_valor}')"
      ],
      "metadata": {
        "colab": {
          "base_uri": "https://localhost:8080/"
        },
        "id": "yTwEmYmd8EGG",
        "outputId": "915f0188-5340-4a27-e399-51ae925a59a9"
      },
      "execution_count": null,
      "outputs": [
        {
          "output_type": "stream",
          "name": "stdout",
          "text": [
            "Ingrese el numerador: 15\n",
            "Ingrese el denominador: 6\n",
            "La división de los valores ingresados es: 2\n"
          ]
        }
      ]
    },
    {
      "cell_type": "markdown",
      "source": [
        "Crea un programa que solicite dos valores numéricos, un numerador y un denominador, y devuelva el resto de la división entre los dos valores. Asegúrate de que el valor del denominador no sea igual a 0."
      ],
      "metadata": {
        "id": "KOy5jM83172n"
      }
    },
    {
      "cell_type": "code",
      "source": [
        "primer_valor = int(input('Ingrese el numerador: '))\n",
        "segundo_valor = int(input('Ingrese el denominador: '))\n",
        "if(segundo_valor == 0):\n",
        "    print('El denominador no puede ser 0')\n",
        "else:\n",
        "  print(f'El resto de la división de los valores ingresados es: {primer_valor % segundo_valor}')"
      ],
      "metadata": {
        "colab": {
          "base_uri": "https://localhost:8080/"
        },
        "id": "jGrFepGU89Qm",
        "outputId": "3016221b-6a7d-4454-a835-4dcaa3afa105"
      },
      "execution_count": null,
      "outputs": [
        {
          "output_type": "stream",
          "name": "stdout",
          "text": [
            "Ingrese el numerador: 68\n",
            "Ingrese el denominador: 32\n",
            "El resto de la división de los valores ingresados es: 4\n"
          ]
        }
      ]
    },
    {
      "cell_type": "markdown",
      "source": [
        "Crea un código que solicite las 3 notas de un estudiante e imprima el promedio de las notas."
      ],
      "metadata": {
        "id": "3Yk99VSd18tU"
      }
    },
    {
      "cell_type": "code",
      "source": [
        "primera_nota = float(input('Ingrese la primera nota: '))\n",
        "segunda_nota = float(input('Ingrese la segunda nota: '))\n",
        "tercera_nota = float(input('Ingrese la tercera nota: '))\n",
        "\n",
        "print(f'El promedio de las notas ingresadas es: {float((primera_nota + segunda_nota + tercera_nota) / 3):.2f}')"
      ],
      "metadata": {
        "colab": {
          "base_uri": "https://localhost:8080/"
        },
        "id": "_eDNBE9h9IYm",
        "outputId": "5689df3f-1f87-4e45-9393-3403fca1cf8f"
      },
      "execution_count": null,
      "outputs": [
        {
          "output_type": "stream",
          "name": "stdout",
          "text": [
            "Ingrese la primera nota: 14.87\n",
            "Ingrese la segunda nota: 15.87\n",
            "Ingrese la tercera nota: 5.8\n",
            "El promedio de las notas ingresadas es: 12.18\n"
          ]
        }
      ]
    },
    {
      "cell_type": "markdown",
      "source": [
        "Crea un código que calcule e imprima el promedio ponderado de los números 5, 12, 20 y 15 con pesos respectivamente iguales a 1, 2, 3 y 4."
      ],
      "metadata": {
        "id": "ir7tR39g19jd"
      }
    },
    {
      "cell_type": "code",
      "source": [
        "print(f'El promedio ponderado de los números ingresados es: {float((5 * 1 + 12 * 2 + 20 * 3 + 15 * 4) / (1 + 2 + 3 + 4)):.2f}')"
      ],
      "metadata": {
        "colab": {
          "base_uri": "https://localhost:8080/"
        },
        "id": "cttE_0qy9WLa",
        "outputId": "3e0b639b-22a2-4428-e1ca-995766a8ea84"
      },
      "execution_count": null,
      "outputs": [
        {
          "output_type": "stream",
          "name": "stdout",
          "text": [
            "El promedio ponderado de los números ingresados es: 14.90\n"
          ]
        }
      ]
    },
    {
      "cell_type": "markdown",
      "source": [
        "## Editando textos"
      ],
      "metadata": {
        "id": "i2x67PuE1-oI"
      }
    },
    {
      "cell_type": "markdown",
      "source": [
        "Crea una variable llamada \"frase\" y asígnale una cadena de texto de tu elección. Luego, imprime la frase en pantalla."
      ],
      "metadata": {
        "id": "MRJkYoS42BTV"
      }
    },
    {
      "cell_type": "code",
      "source": [
        "frase = 'Esta es una frase, creada por un frasesista'\n",
        "\n",
        "print(frase)"
      ],
      "metadata": {
        "colab": {
          "base_uri": "https://localhost:8080/"
        },
        "id": "TNnUnmmI-Jwz",
        "outputId": "db521a16-68d7-49d9-d310-791a23451bbf"
      },
      "execution_count": null,
      "outputs": [
        {
          "output_type": "stream",
          "name": "stdout",
          "text": [
            "Esta es una frase, creada por un frasesista\n"
          ]
        }
      ]
    },
    {
      "cell_type": "markdown",
      "source": [
        "Crea un código que solicite una frase y luego imprima la frase en pantalla."
      ],
      "metadata": {
        "id": "m3fybdT22C6y"
      }
    },
    {
      "cell_type": "code",
      "source": [
        "frase_usuario = input('Ingrese una frase: ')\n",
        "\n",
        "print(frase_usuario)"
      ],
      "metadata": {
        "colab": {
          "base_uri": "https://localhost:8080/"
        },
        "id": "31iWtLJK-QcS",
        "outputId": "b10d3b8d-98c2-4656-eb27-0d3168eea287"
      },
      "execution_count": null,
      "outputs": [
        {
          "output_type": "stream",
          "name": "stdout",
          "text": [
            "Ingrese una frase: Viernes de descuentos en KFC\n",
            "Viernes de descuentos en KFC\n"
          ]
        }
      ]
    },
    {
      "cell_type": "markdown",
      "source": [
        "Crea un código que solicite una frase al usuario y luego imprima la misma frase ingresada pero en mayúsculas."
      ],
      "metadata": {
        "id": "uY0b_GHF2EQS"
      }
    },
    {
      "cell_type": "code",
      "source": [
        "frase_usuario = input('Ingrese una frase: ')\n",
        "\n",
        "print(frase_usuario.upper())"
      ],
      "metadata": {
        "colab": {
          "base_uri": "https://localhost:8080/"
        },
        "id": "qXjyYRU9-Xb9",
        "outputId": "716ff6b1-3b58-4a83-fae2-703c9ee834ef"
      },
      "execution_count": null,
      "outputs": [
        {
          "output_type": "stream",
          "name": "stdout",
          "text": [
            "Ingrese una frase: antes de ayer, fue hace 2 días no?\n",
            "ANTES DE AYER, FUE HACE 2 DÍAS NO?\n"
          ]
        }
      ]
    },
    {
      "cell_type": "markdown",
      "source": [
        "Crea un código que solicite una frase al usuario y luego imprima la misma frase ingresada pero en minúsculas."
      ],
      "metadata": {
        "id": "lsiz3GTt2Fb5"
      }
    },
    {
      "cell_type": "code",
      "source": [
        "frase_usuario = input('Ingrese una frase: ')\n",
        "\n",
        "print(frase_usuario.lower())"
      ],
      "metadata": {
        "colab": {
          "base_uri": "https://localhost:8080/"
        },
        "id": "rJ7T7vwQ-lEo",
        "outputId": "341c42dc-3432-43cd-f7b8-6e0779fae6c7"
      },
      "execution_count": null,
      "outputs": [
        {
          "output_type": "stream",
          "name": "stdout",
          "text": [
            "Ingrese una frase: Helado de Chocobanana\n",
            "helado de chocobanana\n"
          ]
        }
      ]
    },
    {
      "cell_type": "markdown",
      "source": [
        "Crea una variable llamada \"frase\" y asígnale una cadena de texto de tu elección. Luego, imprime la frase sin espacios en blanco al principio y al final."
      ],
      "metadata": {
        "id": "8MIoI-yd2GXw"
      }
    },
    {
      "cell_type": "code",
      "source": [
        "frase = '      A veces solo nos queda decir a veces     '\n",
        "\n",
        "print(frase.strip())"
      ],
      "metadata": {
        "colab": {
          "base_uri": "https://localhost:8080/"
        },
        "id": "DuKEMxe1-xbG",
        "outputId": "bcc3e164-3be4-42c6-9bfb-2b7700ffb891"
      },
      "execution_count": null,
      "outputs": [
        {
          "output_type": "stream",
          "name": "stdout",
          "text": [
            "A veces solo nos queda decir a veces\n"
          ]
        }
      ]
    },
    {
      "cell_type": "markdown",
      "source": [
        "Crea un código que solicite una frase al usuario y luego imprima la misma frase sin espacios en blanco al principio y al final."
      ],
      "metadata": {
        "id": "9VrohA_p2HWX"
      }
    },
    {
      "cell_type": "code",
      "source": [
        "frase_usuario = input('Ingrese una frase: ')\n",
        "\n",
        "print(frase_usuario.strip())"
      ],
      "metadata": {
        "colab": {
          "base_uri": "https://localhost:8080/"
        },
        "id": "fM0N2XlQ-6vg",
        "outputId": "7312e895-eed0-4047-f9ee-7ed626867b82"
      },
      "execution_count": null,
      "outputs": [
        {
          "output_type": "stream",
          "name": "stdout",
          "text": [
            "Ingrese una frase:                       a e i o u                  \n",
            "a e i o u\n"
          ]
        }
      ]
    },
    {
      "cell_type": "markdown",
      "source": [
        "Crea un código que solicite una frase al usuario y luego imprima la misma frase sin espacios en blanco al principio y al final, además de convertirla a minúsculas."
      ],
      "metadata": {
        "id": "ARinu8hm2Ilw"
      }
    },
    {
      "cell_type": "code",
      "source": [
        "frase_usuario = input('Ingrese una frase: ')\n",
        "\n",
        "print(frase_usuario.strip().lower())"
      ],
      "metadata": {
        "colab": {
          "base_uri": "https://localhost:8080/"
        },
        "id": "QqADOnLB_F6L",
        "outputId": "7e9438a3-8be8-44b1-a75d-69f4d2269537"
      },
      "execution_count": null,
      "outputs": [
        {
          "output_type": "stream",
          "name": "stdout",
          "text": [
            "Ingrese una frase:                        Bienvenidos a la entrada principal           \n",
            "bienvenidos a la entrada principal\n"
          ]
        }
      ]
    },
    {
      "cell_type": "markdown",
      "source": [
        "Crea un código que solicite una frase al usuario y luego imprima la misma frase con todas las vocales \"e\" reemplazadas por la letra \"f\"."
      ],
      "metadata": {
        "id": "TqA70K3P2JyZ"
      }
    },
    {
      "cell_type": "code",
      "source": [
        "frase_usuario = input('Ingrese una frase: ')\n",
        "\n",
        "print(frase_usuario.replace('e', 'f'))"
      ],
      "metadata": {
        "colab": {
          "base_uri": "https://localhost:8080/"
        },
        "id": "--nVuZ2s_P53",
        "outputId": "e434084a-31b6-4b76-b17c-c053ba17a2ba"
      },
      "execution_count": null,
      "outputs": [
        {
          "output_type": "stream",
          "name": "stdout",
          "text": [
            "Ingrese una frase: Esternocleidomastoideo de que parte del cuerpo era?\n",
            "Estfrnoclfidomastoidfo df quf partf dfl cufrpo fra?\n"
          ]
        }
      ]
    },
    {
      "cell_type": "markdown",
      "source": [
        "Crea un código que solicite una frase al usuario y luego imprima la misma frase con todas las vocales \"a\" reemplazadas por el carácter \"@\"."
      ],
      "metadata": {
        "id": "5cBNd5n02LmP"
      }
    },
    {
      "cell_type": "code",
      "source": [
        "frase_inclusiva = input('Ingrese una frase: ')\n",
        "\n",
        "print(frase_inclusiva.replace('a', '@'))"
      ],
      "metadata": {
        "colab": {
          "base_uri": "https://localhost:8080/"
        },
        "id": "PcMsAoDo_aNZ",
        "outputId": "19952372-8a90-4243-f936-dedbd37632a4"
      },
      "execution_count": null,
      "outputs": [
        {
          "output_type": "stream",
          "name": "stdout",
          "text": [
            "Ingrese una frase: Metrofertas cada día lunes\n",
            "Metrofert@s c@d@ dí@ lunes\n"
          ]
        }
      ]
    },
    {
      "cell_type": "markdown",
      "source": [
        "Crea un código que solicite una frase al usuario y luego imprima la misma frase con todas las consonantes \"s\" reemplazadas por el carácter \"$\"."
      ],
      "metadata": {
        "id": "-6un6Gkw2Mme"
      }
    },
    {
      "cell_type": "code",
      "source": [
        "frase_usuario = input('Ingrese una frase: ')\n",
        "\n",
        "print(frase_usuario.replace('s', '$'))"
      ],
      "metadata": {
        "colab": {
          "base_uri": "https://localhost:8080/"
        },
        "id": "UPwGRlQE_ii_",
        "outputId": "1ca2e3a2-f8b3-41f0-e68f-2e3a12194b07"
      },
      "execution_count": null,
      "outputs": [
        {
          "output_type": "stream",
          "name": "stdout",
          "text": [
            "Ingrese una frase: Las serpientes tienen unas escamas bien bonitas\n",
            "La$ $erpiente$ tienen una$ e$cama$ bien bonita$\n"
          ]
        }
      ]
    }
  ]
}