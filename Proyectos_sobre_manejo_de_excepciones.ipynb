{
  "nbformat": 4,
  "nbformat_minor": 0,
  "metadata": {
    "colab": {
      "provenance": [],
      "authorship_tag": "ABX9TyPRCa8H1FGLZxBN59XsJlSc",
      "include_colab_link": true
    },
    "kernelspec": {
      "name": "python3",
      "display_name": "Python 3"
    },
    "language_info": {
      "name": "python"
    }
  },
  "cells": [
    {
      "cell_type": "markdown",
      "metadata": {
        "id": "view-in-github",
        "colab_type": "text"
      },
      "source": [
        "<a href=\"https://colab.research.google.com/github/DevEnriquegd/Proyectos-Google-Colab/blob/main/Proyectos_sobre_manejo_de_excepciones.ipynb\" target=\"_parent\"><img src=\"https://colab.research.google.com/assets/colab-badge.svg\" alt=\"Open In Colab\"/></a>"
      ]
    },
    {
      "cell_type": "markdown",
      "source": [
        "## Calentamiento"
      ],
      "metadata": {
        "id": "AgM4gDpbiRRz"
      }
    },
    {
      "cell_type": "markdown",
      "source": [
        "Haz un programa que solicite a la persona usuaria ingresar dos números decimales y calcular la división entre estos números. El código debe incluir un manejo de error, indicando el tipo de error que se generó si la división no es posible.\n",
        "\n",
        "Prueba el programa con el segundo valor numérico de la entrada igual a 0. También prueba usando caracteres textuales en la entrada para verificar los tipos de errores que ocurren."
      ],
      "metadata": {
        "id": "j7O3XpYYiSey"
      }
    },
    {
      "cell_type": "code",
      "source": [
        "try:\n",
        "  primer_numero = float(input('Ingrese el primer número: '))\n",
        "  segundo_numero = float(input('Ingrese el segundo número:'))\n",
        "  resultado = primer_numero/segundo_numero\n",
        "except ZeroDivisionError:\n",
        "  print('No se permite hacer división entre 0')\n",
        "except ValueError:\n",
        "  print('Solo se permiten ingresar numeros')\n",
        "else:\n",
        "  print(f'El resultado de la división de los numeros ingresados es: {resultado}')\n",
        "finally:\n",
        "  print('Consulta Terminada')"
      ],
      "metadata": {
        "colab": {
          "base_uri": "https://localhost:8080/"
        },
        "id": "OPnhsukkjpoW",
        "outputId": "c9985388-08d0-4ad2-e7f3-cad0356d8f57"
      },
      "execution_count": 7,
      "outputs": [
        {
          "output_type": "stream",
          "name": "stdout",
          "text": [
            "Ingrese el primer número: 4\n",
            "Ingrese el segundo número:0\n",
            "No se permite hacer división entre 0\n",
            "Consulta Terminada\n"
          ]
        }
      ]
    },
    {
      "cell_type": "markdown",
      "source": [
        "Haz un programa que solicite a la persona usuaria ingresar un texto que será una clave a buscar en el siguiente diccionario:\n",
        "\n",
        "```\n",
        "edades = {'Júlia': 16, 'Carol': 23, 'Alberto': 19, 'Roberta': 17}\n",
        "```\n",
        "\n",
        "Almacenando el resultado del valor en una variable. El código debe incluir un manejo de error KeyError, imprimiendo la información 'Nombre no encontrado' en caso de error, e imprimir el valor si no ocurre ninguno.\n",
        "\n",
        "Prueba el programa con un nombre presente en una de las claves del diccionario y con uno que no esté en el diccionario para verificar el mensaje de error."
      ],
      "metadata": {
        "id": "T8rSVnbEiYFO"
      }
    },
    {
      "cell_type": "code",
      "source": [
        "try:\n",
        "  edades = {'Júlia': 16, 'Carol': 23, 'Alberto': 19, 'Roberta': 17}\n",
        "  consulta_usuario = input('Ingrese el nombre a consultar: ')\n",
        "  resultado = edades[consulta_usuario]\n",
        "except KeyError:\n",
        "  print('Nombre no encontrado')\n",
        "else:\n",
        "  print(f'La edad de {consulta_usuario} es {resultado}')\n",
        "finally:\n",
        "  print('Consulta Terminada')"
      ],
      "metadata": {
        "colab": {
          "base_uri": "https://localhost:8080/"
        },
        "id": "CKMYJuoIlaz7",
        "outputId": "e5543aa1-6551-4a09-a4ec-0028de0752d0"
      },
      "execution_count": 17,
      "outputs": [
        {
          "output_type": "stream",
          "name": "stdout",
          "text": [
            "Ingrese el nombre a consultar: Júlia\n",
            "La edad de Júlia es 16\n",
            "Consulta Terminada\n"
          ]
        }
      ]
    },
    {
      "cell_type": "markdown",
      "source": [
        "Crea una función que reciba una lista como parámetro y convierta todos los valores de la lista a flotantes. La función debe incluir un manejo de error indicando el tipo de error generado y devolver la lista si no ha ocurrido ningún error. Por último, debe tener la cláusula finally para imprimir el texto: 'Fin de la ejecución de la función'."
      ],
      "metadata": {
        "id": "wtY6iRyqif_V"
      }
    },
    {
      "cell_type": "code",
      "source": [
        "def conversor_int_float(lista:list) -> list:\n",
        "  try:\n",
        "    lista = [float(lista[i]) for i in range(len(lista))]\n",
        "    return lista\n",
        "  except   ValueError as e:\n",
        "    print(e)\n",
        "    return None\n",
        "  finally:\n",
        "    print('Fin de la ejecución de la función')\n",
        "\n",
        "lista_numeros = [3,4,2,5]\n",
        "conversor_int_float(lista_numeros)"
      ],
      "metadata": {
        "colab": {
          "base_uri": "https://localhost:8080/"
        },
        "id": "CjM8pWkmog1C",
        "outputId": "1d908f15-3710-40a9-d306-0f58a8c61352"
      },
      "execution_count": 43,
      "outputs": [
        {
          "output_type": "stream",
          "name": "stdout",
          "text": [
            "Fin de la ejecución de la función\n"
          ]
        },
        {
          "output_type": "execute_result",
          "data": {
            "text/plain": [
              "[3.0, 4.0, 2.0, 5.0]"
            ]
          },
          "metadata": {},
          "execution_count": 43
        }
      ]
    },
    {
      "cell_type": "markdown",
      "source": [
        "Crea una función que reciba dos listas como parámetros y agrupe los elementos uno a uno de las listas, formando una lista de tuplas de 3 elementos. El primer y segundo elemento de la tupla son los valores en la posición i de las listas y el tercer elemento es la suma de los valores en la posición i de las listas.\n",
        "\n",
        "La función debe incluir un manejo de error indicando el tipo de error generado y devolver como resultado la lista de tuplas. Si las listas enviadas como parámetro tienen tamaños diferentes, la función debe devolver un IndexError con la frase: 'La cantidad de elementos en cada lista es diferente.'.\n",
        "\n",
        "Datos para probar la función:\n",
        "\n",
        "Valores sin error:\n",
        "\n",
        "```\n",
        "lista1 = [4, 6, 7, 9, 10]\n",
        "lista2 = [-4, 6, 8, 7, 9]\n",
        "```\n",
        "Listas con tamaños diferentes:\n",
        "\n",
        "\n",
        "```\n",
        "lista1 = [4, 6, 7, 9, 10, 4]\n",
        "lista2 = [-4, 6, 8, 7, 9]\n",
        "```\n",
        "Listas con valores incoherentes:\n",
        "\n",
        "```\n",
        "lista1 = [4, 6, 7, 9, 'A']\n",
        "lista2 = [-4, 'E', 8, 7, 9]\n",
        "```\n",
        "\n",
        "\n"
      ],
      "metadata": {
        "id": "5O0W8reOij8I"
      }
    },
    {
      "cell_type": "code",
      "source": [
        "def agrupar_listas(lista_1:list, lista_2:list) -> list:\n",
        "  if len(lista_1) != len(lista_2):\n",
        "    raise IndexError('La cantidad de elementos en cada lista es diferente.')\n",
        "  try:\n",
        "    lista_tuplas = [(lista1, lista2, lista1 + lista2) for lista1, lista2 in zip(lista_1, lista_2)]\n",
        "    return lista_tuplas\n",
        "  except TypeError as e:\n",
        "    print(e)\n",
        "    return None\n",
        "  finally:\n",
        "    print('Fin de la ejecución de la función')\n",
        "\n",
        "print('Valores sin error:')\n",
        "lista1 = [4, 6, 7, 9, 10]\n",
        "lista2 = [-4, 6, 8, 7, 9]\n",
        "print(agrupar_listas(lista1, lista2))\n",
        "\n",
        "print('\\nListas con tamaños diferentes:')\n",
        "lista3 = [4, 6, 7, 9, 10, 4]\n",
        "lista4 = [-4, 6, 8, 7, 9]\n",
        "try:\n",
        "    agrupar_listas(lista3, lista4)\n",
        "except IndexError as e:\n",
        "    print(f\"ERROR CAPTURADO: {e}\")\n",
        "\n",
        "print('\\nListas con valores incoherentes:')\n",
        "lista5 = [4, 6, 7, 9, 'A']\n",
        "lista6 = [-4, 'E', 8, 7, 9]\n",
        "try:\n",
        "    agrupar_listas(lista5, lista6)\n",
        "except (IndexError, TypeError) as e:\n",
        "    print(f\"ERROR CAPTURADO: {e}\")\n"
      ],
      "metadata": {
        "colab": {
          "base_uri": "https://localhost:8080/"
        },
        "id": "tH0Eqngqs6Vn",
        "outputId": "e6cf8ee4-94eb-4df7-bd8c-b1e63e2334e6"
      },
      "execution_count": 62,
      "outputs": [
        {
          "output_type": "stream",
          "name": "stdout",
          "text": [
            "Valores sin error:\n",
            "Fin de la ejecución de la función\n",
            "[(4, -4, 0), (6, 6, 12), (7, 8, 15), (9, 7, 16), (10, 9, 19)]\n",
            "\n",
            "Listas con tamaños diferentes:\n",
            "ERROR CAPTURADO: La cantidad de elementos en cada lista es diferente.\n",
            "\n",
            "Listas con valores incoherentes:\n",
            "unsupported operand type(s) for +: 'int' and 'str'\n",
            "Fin de la ejecución de la función\n"
          ]
        }
      ]
    },
    {
      "cell_type": "markdown",
      "source": [
        "## Aplicando a proyectos"
      ],
      "metadata": {
        "id": "L-8v3NtpizwV"
      }
    },
    {
      "cell_type": "markdown",
      "source": [
        "Como desafío, se te ha asignado la tarea de desarrollar un código que contabiliza las puntuaciones de estudiantes de una institución educativa de acuerdo con sus respuestas en una prueba. Este código debe ser probado para un ejemplo de 3 estudiantes con una lista de listas en la que cada lista tiene las respuestas de 5 preguntas objetivas de cada estudiante. Cada pregunta vale un punto y las alternativas posibles son A, B, C o D.\n",
        "\n",
        "Si alguna alternativa en una de las pruebas no está entre las alternativas posibles, debes lanzar un ValueError con el mensaje \"La alternativa [alternativa] no es una opción de alternativa válida\". El cálculo de las 3 notas solo se realizará mediante las entradas con las alternativas A, B, C o D en todas las pruebas. Si no se lanza la excepción, se mostrará una lista con las notas en cada prueba.\n",
        "\n",
        "Datos para la prueba del código:\n",
        "\n",
        "Respuestas de la prueba:\n",
        "\n",
        "```\n",
        "respuestas = ['D', 'A', 'B', 'C', 'A']\n",
        "\n",
        "```\n",
        "\n",
        "A continuación, hay 2 listas de listas que puedes usar como prueba:\n",
        "\n",
        "Notas sin excepción:\n",
        "\n",
        "```\n",
        "tests_sin_ex = [['D', 'A', 'B', 'C', 'A'], ['C', 'A', 'A', 'C', 'A'], ['D', 'B', 'A', 'C', 'A']]\n",
        "```\n",
        "Notas con excepción:\n",
        "\n",
        "```\n",
        "tests_con_ex = [['D', 'A', 'B', 'C', 'A'], ['C', 'A', 'A', 'E', 'A'], ['D', 'B', 'A', 'C', 'A']]\n",
        "```"
      ],
      "metadata": {
        "id": "gnllQ3RYi2dK"
      }
    },
    {
      "cell_type": "code",
      "source": [
        "respuestas = ['D', 'A', 'C', 'D', 'B']\n",
        "respuestas_correctas = ['D', 'A', 'B', 'C', 'A']\n",
        "\n",
        "for i in range(len(respuestas)):\n",
        "  if respuestas[i] not in ['A', 'B', 'C', 'D']:\n",
        "    raise ValueError(f'La alternativa {respuestas[i]} no es una opción de alternativa válida')\n",
        "try:\n",
        "  resultado = [1 if respuestas[i] == respuestas_correctas[i] else 0 for i in range(len(respuestas))]\n",
        "except ValueError:\n",
        "  print(f'La alternativa {respuestas[i]} no es una opción de alternativa válida')\n",
        "else:\n",
        "  print(f'La nota del estudiante es: {sum(resultado)}')"
      ],
      "metadata": {
        "colab": {
          "base_uri": "https://localhost:8080/"
        },
        "id": "1i85qsaEzhXp",
        "outputId": "9222fa20-a115-42e3-9579-5bbdb6c18d89"
      },
      "execution_count": 130,
      "outputs": [
        {
          "output_type": "stream",
          "name": "stdout",
          "text": [
            "La nota del estudiante es: 2\n"
          ]
        }
      ]
    },
    {
      "cell_type": "code",
      "source": [
        "respuestas = [['D', 'A', 'B', 'C', 'A'], ['C', 'A', 'A', 'C', 'A'], ['D', 'B', 'A', 'C', 'A']]\n",
        "respuestas_correctas = ['D', 'A', 'B', 'C', 'A']\n",
        "\n",
        "try:\n",
        "  for estudiante in range(len(respuestas)):\n",
        "    for respuesta in range(len(respuestas[estudiante])):\n",
        "      if respuestas[estudiante][respuesta] not in ['A', 'B', 'C', 'D']:\n",
        "        raise ValueError(f'La alternativa {respuestas[estudiante][respuesta]} no es una opción de alternativa válida')\n",
        "  resultado = [sum([1 if respuestas[estudiante][i] == respuestas_correctas[i] else 0 for i in range(len(respuestas[estudiante]))]) for estudiante in range(len(respuestas))]\n",
        "except ValueError:\n",
        "  print(f'La alternativa {respuestas[estudiante][respuesta]} no es una opción de alternativa válida')\n",
        "else:\n",
        "  print(f'Las notas de los estudiantes son: {resultado}')"
      ],
      "metadata": {
        "colab": {
          "base_uri": "https://localhost:8080/"
        },
        "id": "CVO_6yhk9lie",
        "outputId": "0021760e-0692-4c33-bb2b-9c38af9d4ef1"
      },
      "execution_count": 140,
      "outputs": [
        {
          "output_type": "stream",
          "name": "stdout",
          "text": [
            "Las notas de los estudiantes son: [5, 3, 3]\n"
          ]
        }
      ]
    },
    {
      "cell_type": "markdown",
      "source": [
        "Estás trabajando con procesamiento de lenguaje natural (NLP) y, en esta ocasión, tu líder te pidió que crees un fragmento de código que reciba una lista con las palabras separadas de una frase generada por ChatGPT.\n",
        "\n",
        "Necesitas crear una función que evalúe cada palabra de este texto y verifique si el tratamiento para quitar los símbolos de puntuación (',', '.', '!' y '?') se realizó. De lo contrario, se lanzará una excepción del tipo ValueError señalando el primer caso en que se detectó el uso de una puntuación a través de la frase \"El texto presenta puntuaciones en la palabra \"[palabra]\"\". Esta solicitud se centra en el análisis del patrón de frases generadas por la inteligencia artificial.\n",
        "\n",
        "Datos para probar el código:\n",
        "\n",
        "Lista tratada:\n",
        "\n",
        "```\n",
        "lista_tratada = ['Python', 'es', 'un', 'lenguaje', 'de', 'programación', 'poderoso', 'versátil',\n",
        "                  'y', 'fácil', 'de', 'aprender', 'utilizado', 'en', 'diversos', 'campos', 'desde',\n",
        "                  'análisis', 'de', 'datos', 'hasta', 'inteligencia', 'artificial']\n",
        "```\n",
        "\n",
        "Lista no tratada:\n",
        "\n",
        "```\n",
        "lista_no_tratada = ['Python', 'es', 'un', 'lenguaje', 'de', 'programación', 'poderoso,', 'versátil',\n",
        "                  'y', 'fácil,', 'de', 'aprender', 'utilizado', 'en', 'diversos', 'campos,', 'desde',\n",
        "                  'análisis', 'de', 'datos', 'hasta', 'inteligencia', 'artificial!']\n",
        "```"
      ],
      "metadata": {
        "id": "ukejFGu9jEI6"
      }
    },
    {
      "cell_type": "code",
      "source": [
        "def tratamiento_plabras(lista: list) -> list:\n",
        "  palabras_con_putuacion = []\n",
        "  puntuciones = [',', '.', '!', '?']\n",
        "\n",
        "  for palabra in lista:\n",
        "    if any(letra in puntuciones for letra in palabra):\n",
        "      palabras_con_putuacion.append(f'\"{palabra}\"')\n",
        "\n",
        "  if palabras_con_putuacion:\n",
        "    mensaje_error = \"El texto presenta puntuaciones en las siguientes palabras: \"\n",
        "    mensaje_error += \", \".join(palabras_con_putuacion)\n",
        "    raise ValueError(f'El texto presenta puntuaciones en la palabra {\", \".join(palabras_con_putuacion)}')\n",
        "\n",
        "lista_palabras = ['Python', 'es', 'un', 'lenguaje', 'de', 'programación', 'poderoso,', 'versátil',\n",
        "                  'y', 'fácil,', 'de', 'aprender', 'utilizado', 'en', 'diversos', 'campos,', 'desde',\n",
        "                  'análisis', 'de', 'datos', 'hasta', 'inteligencia', 'artificial!']\n",
        "\n",
        "try:\n",
        "  resultado = tratamiento_plabras(lista_palabras)\n",
        "  print(resultado)\n",
        "except ValueError as e:\n",
        "  print(e)"
      ],
      "metadata": {
        "colab": {
          "base_uri": "https://localhost:8080/"
        },
        "id": "x0erGFjqBvNm",
        "outputId": "7f2da8c4-71b9-417e-eb31-de9bd7ba5f5e"
      },
      "execution_count": 179,
      "outputs": [
        {
          "output_type": "stream",
          "name": "stdout",
          "text": [
            "El texto presenta puntuaciones en la palabra \"poderoso,\", \"fácil,\", \"campos,\", \"artificial!\"\n"
          ]
        }
      ]
    }
  ]
}