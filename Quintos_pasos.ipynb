{
  "nbformat": 4,
  "nbformat_minor": 0,
  "metadata": {
    "colab": {
      "provenance": [],
      "authorship_tag": "ABX9TyNp77VbaBEvo2zyTkZgWiey",
      "include_colab_link": true
    },
    "kernelspec": {
      "name": "python3",
      "display_name": "Python 3"
    },
    "language_info": {
      "name": "python"
    }
  },
  "cells": [
    {
      "cell_type": "markdown",
      "metadata": {
        "id": "view-in-github",
        "colab_type": "text"
      },
      "source": [
        "<a href=\"https://colab.research.google.com/github/DevEnriquegd/Proyectos-Google-Colab/blob/main/Quintos_pasos.ipynb\" target=\"_parent\"><img src=\"https://colab.research.google.com/assets/colab-badge.svg\" alt=\"Open In Colab\"/></a>"
      ]
    },
    {
      "cell_type": "markdown",
      "source": [
        "## Entrenando la programación"
      ],
      "metadata": {
        "id": "XYUAQj9k1oo8"
      }
    },
    {
      "cell_type": "markdown",
      "source": [
        "Crea un programa que tenga la siguiente lista con los gastos de una empresa de papel [2172.54, 3701.35, 3518.09, 3456.61, 3249.38, 2840.82, 3891.45, 3075.26, 2317.64, 3219.08]. Con estos valores, crea un programa que calcule el promedio de gastos. Sugerencia: usa las funciones integradas sum() y len()."
      ],
      "metadata": {
        "id": "MqMLjZNj1wLt"
      }
    },
    {
      "cell_type": "code",
      "source": [
        "gastos_empresa = [2172.54, 3701.35, 3518.09, 3456.61, 3249.38, 2840.82, 3891.45, 3075.26, 2317.64, 3219.08]\n",
        "\n",
        "promedio_gastos = sum(gastos_empresa)/len(gastos_empresa)\n",
        "\n",
        "print(f\"El promedio de gastos de la empresa de papel es de: ${promedio_gastos:.2f}\")"
      ],
      "metadata": {
        "colab": {
          "base_uri": "https://localhost:8080/"
        },
        "id": "-90I2u_j2UpC",
        "outputId": "cf0d8e6b-78c4-492d-8040-48ab7c1599ee"
      },
      "execution_count": null,
      "outputs": [
        {
          "output_type": "stream",
          "name": "stdout",
          "text": [
            "El promedio de gastos de la empresa de papel es de: $3144.22\n"
          ]
        }
      ]
    },
    {
      "cell_type": "markdown",
      "source": [
        "Con los mismos datos de la pregunta anterior, determina cuántas compras se realizaron por encima de 3000 reales y calcula el porcentaje con respecto al total de compras."
      ],
      "metadata": {
        "id": "W3Z7RN8M1x3S"
      }
    },
    {
      "cell_type": "code",
      "source": [
        "gastos_encima_3000 = 0\n",
        "\n",
        "for gasto in gastos_empresa:\n",
        "    if gasto > 3000:\n",
        "        gastos_encima_3000 += 1\n",
        "\n",
        "porcentaje_gastos_encima_3000 = (gastos_encima_3000/len(gastos_empresa))*100\n",
        "\n",
        "print(f'La empresa ha reailzado un total de: {gastos_encima_3000} y esto es equivalente al {porcentaje_gastos_encima_3000}% del total de gastos')"
      ],
      "metadata": {
        "colab": {
          "base_uri": "https://localhost:8080/"
        },
        "id": "aA7_hPFW2nsb",
        "outputId": "28fc0188-e487-4953-c054-18d0e02f43fd"
      },
      "execution_count": null,
      "outputs": [
        {
          "output_type": "stream",
          "name": "stdout",
          "text": [
            "La empresa ha reailzado un total de: 7 y esto es equivalente al 70.0% del total de gastos\n"
          ]
        }
      ]
    },
    {
      "cell_type": "markdown",
      "source": [
        "Crea un código que recoja en una lista 5 números enteros aleatorios e imprima la lista. Ejemplo: [1, 4, 7, 2, 4]."
      ],
      "metadata": {
        "id": "l--NDL8q1yux"
      }
    },
    {
      "cell_type": "code",
      "source": [
        "lista_numeros = []\n",
        "\n",
        "for i in range(5):\n",
        "    numero_aletorio = int(input('Ingrese un número entero: '))\n",
        "    lista_numeros.append(numero_aletorio)\n",
        "\n",
        "print(lista_numeros)"
      ],
      "metadata": {
        "colab": {
          "base_uri": "https://localhost:8080/"
        },
        "id": "MYyK2WOr3PH_",
        "outputId": "1580cc27-0542-4976-d1de-e479b6eee409"
      },
      "execution_count": null,
      "outputs": [
        {
          "output_type": "stream",
          "name": "stdout",
          "text": [
            "Ingrese un número entero: 5\n",
            "Ingrese un número entero: 1\n",
            "Ingrese un número entero: 2\n",
            "Ingrese un número entero: 3\n",
            "Ingrese un número entero: 4\n",
            "[5, 1, 2, 3, 4]\n"
          ]
        }
      ]
    },
    {
      "cell_type": "markdown",
      "source": [
        "Recoge nuevamente 5 números enteros e imprime la lista en orden inverso al enviado."
      ],
      "metadata": {
        "id": "s-Tfnp6D108b"
      }
    },
    {
      "cell_type": "code",
      "source": [
        "lista_invertida = []\n",
        "\n",
        "for i in range(5):\n",
        "  numero_aletorio = int(input('Ingrese un número entero: '))\n",
        "  lista_invertida.insert(0,numero_aletorio)\n",
        "\n",
        "print(lista_invertida)"
      ],
      "metadata": {
        "colab": {
          "base_uri": "https://localhost:8080/"
        },
        "id": "2ljWoe-74OMF",
        "outputId": "7c0aed9d-4931-46a1-b63a-f0f406e39c4a"
      },
      "execution_count": null,
      "outputs": [
        {
          "output_type": "stream",
          "name": "stdout",
          "text": [
            "Ingrese un número entero: 14\n",
            "Ingrese un número entero: 15\n",
            "Ingrese un número entero: 17\n",
            "Ingrese un número entero: 18\n",
            "Ingrese un número entero: 19\n",
            "[19, 18, 17, 15, 14]\n"
          ]
        }
      ]
    },
    {
      "cell_type": "markdown",
      "source": [
        "Crea un programa que, al ingresar un número cualquiera, genere una lista que contenga todos los números primos entre 1 y el número ingresado.\n",
        "\n"
      ],
      "metadata": {
        "id": "HshIJlbZ12Ch"
      }
    },
    {
      "cell_type": "code",
      "source": [
        "lista_primos = [] # 0 => 1, 2, 3, 5\n",
        "numero_usuario = int(input('Ingrese un número para conocer sus primos: ')) # 5\n",
        "\n",
        "for i in range (1, numero_usuario+1): # 1 2 3 4 5\n",
        "  for j in range (2, i): # 2 3 4 5\n",
        "    if i % j == 0:\n",
        "      break\n",
        "  else:\n",
        "    lista_primos.append(i)\n",
        "\n",
        "print(lista_primos)"
      ],
      "metadata": {
        "colab": {
          "base_uri": "https://localhost:8080/"
        },
        "id": "zMA7DfI75faC",
        "outputId": "d476164f-96d3-4a52-bf2f-82086718119d"
      },
      "execution_count": null,
      "outputs": [
        {
          "output_type": "stream",
          "name": "stdout",
          "text": [
            "Ingrese un número para conocer sus primos: 5\n",
            "[1, 2, 3, 5]\n"
          ]
        }
      ]
    },
    {
      "cell_type": "markdown",
      "source": [
        "Escribe un programa que pida una fecha, especificando el día, mes y año, y determine si es válida para su análisis."
      ],
      "metadata": {
        "id": "O3z_JR-913L8"
      }
    },
    {
      "cell_type": "code",
      "source": [
        "def calcular_bisiesto(año):\n",
        "  return (año % 4 == 0 and año % 100 != 0) or (año % 400 == 0)\n",
        "\n",
        "dia = int(input('Ingrese el día: '))\n",
        "mes = int(input('Ingrese el mes: '))\n",
        "año = int(input('Ingrese el año: '))\n",
        "\n",
        "fecha_valida = False\n",
        "\n",
        "if 1 <= mes <= 12 and año >= 1 and 1 <= dia <= 31:\n",
        "  if mes in [1,3,5,7,8,10,12]:\n",
        "    fecha_valida = True\n",
        "  elif mes in [4,6,9,11]:\n",
        "    if dia <= 30:\n",
        "      fecha_valida = True\n",
        "  elif mes == 2:\n",
        "    max_dias = 29 if calcular_bisiesto(año) else 28\n",
        "    if dia <= max_dias:\n",
        "      fecha_valida = True\n",
        "\n",
        "if fecha_valida:\n",
        "  print(f\"La fecha ingresada: {dia}/{mes}/{año} es válida\")\n",
        "else:\n",
        "  print(f\"La fecha ingresada: {dia}/{mes}/{año} no es válida\")"
      ],
      "metadata": {
        "colab": {
          "base_uri": "https://localhost:8080/"
        },
        "id": "q6goicIc9oLd",
        "outputId": "613e73d7-deb5-4319-f373-4fdf5e9a1266"
      },
      "execution_count": null,
      "outputs": [
        {
          "output_type": "stream",
          "name": "stdout",
          "text": [
            "Ingrese el día: 15\n",
            "Ingrese el mes: 12\n",
            "Ingrese el año: 2025\n",
            "La fecha ingresada: 15/12/2025 es válida\n"
          ]
        }
      ]
    },
    {
      "cell_type": "markdown",
      "source": [
        "## Momento para los proyectos"
      ],
      "metadata": {
        "id": "ef5tOqzf15dB"
      }
    },
    {
      "cell_type": "markdown",
      "source": [
        "Para un estudio sobre la multiplicación de bacterias en una colonia, se recopiló el número de bacterias multiplicadas por día y se puede observar a continuación: [1.2, 2.1, 3.3, 5.0, 7.8, 11.3, 16.6, 25.1, 37.8, 56.9]. Con estos valores, crea un código que genere una lista que contenga el porcentaje de crecimiento de bacterias por día, comparando el número de bacterias en cada día con el número de bacterias del día anterior. Sugerencia: para calcular el porcentaje de crecimiento, utiliza la siguiente ecuación: 100 * (muestra_actual - muestra_anterior) / muestra_anterior."
      ],
      "metadata": {
        "id": "vFiqWrG3156y"
      }
    },
    {
      "cell_type": "code",
      "source": [
        "numero_bacterias_por_dia = [1.2, 2.1, 3.3, 5.0, 7.8, 11.3, 16.6, 25.1, 37.8, 56.9]\n",
        "\n",
        "for i in range(1, len(numero_bacterias_por_dia)):\n",
        "  muestra_actual = numero_bacterias_por_dia[i]\n",
        "  muestra_anterior = numero_bacterias_por_dia[i-1]\n",
        "  porcentaje_crecimiento = 100 * (muestra_actual - muestra_anterior) / muestra_anterior\n",
        "  print(f\"Día N°{i} Las bacterias pasaron de {muestra_anterior} a {muestra_actual} un incremento del {porcentaje_crecimiento:.2f}%\")"
      ],
      "metadata": {
        "colab": {
          "base_uri": "https://localhost:8080/"
        },
        "id": "rNfRHyCjB5dH",
        "outputId": "310c9849-9fe3-4557-d79d-e922295fd56e"
      },
      "execution_count": null,
      "outputs": [
        {
          "output_type": "stream",
          "name": "stdout",
          "text": [
            "Día N°1 Las bacterias pasaron de 1.2 a 2.1 un incremento del 75.00%\n",
            "Día N°2 Las bacterias pasaron de 2.1 a 3.3 un incremento del 57.14%\n",
            "Día N°3 Las bacterias pasaron de 3.3 a 5.0 un incremento del 51.52%\n",
            "Día N°4 Las bacterias pasaron de 5.0 a 7.8 un incremento del 56.00%\n",
            "Día N°5 Las bacterias pasaron de 7.8 a 11.3 un incremento del 44.87%\n",
            "Día N°6 Las bacterias pasaron de 11.3 a 16.6 un incremento del 46.90%\n",
            "Día N°7 Las bacterias pasaron de 16.6 a 25.1 un incremento del 51.20%\n",
            "Día N°8 Las bacterias pasaron de 25.1 a 37.8 un incremento del 50.60%\n",
            "Día N°9 Las bacterias pasaron de 37.8 a 56.9 un incremento del 50.53%\n"
          ]
        }
      ]
    },
    {
      "cell_type": "markdown",
      "source": [
        "Para una selección de productos alimenticios, debemos separar el conjunto de IDs proporcionados por números enteros, sabiendo que los productos con ID par son dulces y los que tienen ID impar son amargos. Crea un código que recoja 10 IDs. Luego, calcula y muestra la cantidad de productos dulces y amargos."
      ],
      "metadata": {
        "id": "TVWWfl9g18FU"
      }
    },
    {
      "cell_type": "code",
      "source": [
        "productos_dulces = []\n",
        "productos_amargos = []\n",
        "\n",
        "for i in range(1,11):\n",
        "  id_producto = int(input(f\"Ingrese el ID del producto {i}: \"))\n",
        "  if id_producto % 2 == 0:\n",
        "    productos_dulces.append(id_producto)\n",
        "  else:\n",
        "    productos_amargos.append(id_producto)\n",
        "print(f'La cantidad de productos dulces es de: {len(productos_dulces)}')\n",
        "print(f'La cantidad de productos amargos es de: {len(productos_amargos)}')"
      ],
      "metadata": {
        "colab": {
          "base_uri": "https://localhost:8080/"
        },
        "id": "I86YCakGKfAd",
        "outputId": "cb15213f-1db9-47ed-9582-e6bfc200b5e2"
      },
      "execution_count": null,
      "outputs": [
        {
          "output_type": "stream",
          "name": "stdout",
          "text": [
            "Ingrese el ID del producto 1: 15\n",
            "Ingrese el ID del producto 2: 20\n",
            "Ingrese el ID del producto 3: 14\n",
            "Ingrese el ID del producto 4: 12\n",
            "Ingrese el ID del producto 5: 30\n",
            "Ingrese el ID del producto 6: 11\n",
            "Ingrese el ID del producto 7: 13\n",
            "Ingrese el ID del producto 8: 17\n",
            "Ingrese el ID del producto 9: 18\n",
            "Ingrese el ID del producto 10: 19\n",
            "La cantidad de productos dulces es de: 5\n",
            "La cantidad de productos amargos es de: 5\n"
          ]
        }
      ]
    },
    {
      "cell_type": "markdown",
      "source": [
        "Desarrolla un programa que informe la puntuación de un estudiante de acuerdo con sus respuestas. Debe pedir la respuesta del estudiante para cada pregunta y verificar si la respuesta coincide con el resultado. Cada pregunta vale un punto y hay opciones A, B, C o D."
      ],
      "metadata": {
        "id": "Gg3rKHvn19Tn"
      }
    },
    {
      "cell_type": "code",
      "source": [
        "preguntas_data = {\n",
        "    \"¿Cuántos lados tiene un triángulo?\": {\n",
        "        \"opciones\": \"A. 3\\nB. 4\\nC. 5\\nD. 6\",\n",
        "        \"respuesta_correcta\": \"A\"\n",
        "    },\n",
        "    \"¿Cuál es el capital de Perú?\": {\n",
        "        \"opciones\": \"A. Cusco\\nB. Lima\\nC. Arequipa\\nD. Trujillo\",\n",
        "        \"respuesta_correcta\": \"B\"\n",
        "    },\n",
        "    \"¿Cuántos lados tiene un hexágono?\": {\n",
        "        \"opciones\": \"A. 4\\nB. 5\\nC. 6\\nD. 8\",\n",
        "        \"respuesta_correcta\": \"C\"\n",
        "    },\n",
        "    \"¿Color principal del cielo?\": {\n",
        "        \"opciones\": \"A. Rojo\\nB. Verde\\nC. Amarillo\\nD. Azul\",\n",
        "        \"respuesta_correcta\": \"D\"\n",
        "    }\n",
        "}\n",
        "\n",
        "puntuacion = 0\n",
        "\n",
        "for pregunta, data in preguntas_data.items():\n",
        "  print(f\"Pregunta: {pregunta}\")\n",
        "  print('Seleccione una de las siguientes opciones:')\n",
        "  print(data[\"opciones\"])\n",
        "  respuesta_usuario = input('Ingrese una opción A, B, C o D: ').strip().upper()\n",
        "  if respuesta_usuario == data[\"respuesta_correcta\"]:\n",
        "    puntuacion += 5\n",
        "\n",
        "print(f\"El estudiante obtuvo {puntuacion} puntos de 20 posibles\")"
      ],
      "metadata": {
        "colab": {
          "base_uri": "https://localhost:8080/"
        },
        "id": "-McHkPVXL-vA",
        "outputId": "2a6d587f-6f18-4fcc-f05e-33f36669c76b"
      },
      "execution_count": null,
      "outputs": [
        {
          "output_type": "stream",
          "name": "stdout",
          "text": [
            "Pregunta: ¿Cuántos lados tiene un triángulo?\n",
            "Seleccione una de las siguientes opciones:\n",
            "A. 3\n",
            "B. 4\n",
            "C. 5\n",
            "D. 6\n",
            "Ingrese una opción A, B, C o D: A\n",
            "Pregunta: ¿Cuál es el capital de Perú?\n",
            "Seleccione una de las siguientes opciones:\n",
            "A. Cusco\n",
            "B. Lima\n",
            "C. Arequipa\n",
            "D. Trujillo\n",
            "Ingrese una opción A, B, C o D: B\n",
            "Pregunta: ¿Cuántos lados tiene un hexágono?\n",
            "Seleccione una de las siguientes opciones:\n",
            "A. 4\n",
            "B. 5\n",
            "C. 6\n",
            "D. 8\n",
            "Ingrese una opción A, B, C o D: C\n",
            "Pregunta: ¿Color principal del cielo?\n",
            "Seleccione una de las siguientes opciones:\n",
            "A. Rojo\n",
            "B. Verde\n",
            "C. Amarillo\n",
            "D. Azul\n",
            "Ingrese una opción A, B, C o D: D\n",
            "El estudiante obtuvo 20 puntos de 20 posibles\n"
          ]
        }
      ]
    },
    {
      "cell_type": "markdown",
      "source": [
        "Un instituto de meteorología desea realizar un estudio de la temperatura media de cada mes del año. Para ello, debes crear un código que recoja y almacene esas temperaturas medias en una lista. Luego, calcula el promedio anual de las temperaturas y muestra todas las temperaturas por encima del promedio anual y en qué mes ocurrieron, mostrando los meses por su nombre (Enero, Febrero, etc.)."
      ],
      "metadata": {
        "id": "34-jFU8v1-0K"
      }
    },
    {
      "cell_type": "code",
      "source": [
        "meses = {'Enero': 0.00, 'Febrero': 0.00, 'Marzo': 0.00, 'Abril': 0.00, 'Mayo': 0.00, 'Junio': 0.00, 'Julio': 0.00, 'Agosto': 0.00, 'Septiembre': 0.00, 'Octubre': 0.00, 'Noviembre': 0.00, 'Diciembre': 0.00}\n",
        "\n",
        "for mes in meses.keys():\n",
        "  temperatura = float(input(f\"Ingrese la temperatura media de {mes}: \"))\n",
        "  meses[mes] = temperatura\n",
        "\n",
        "promedio_anual = sum(meses.values())/len(meses)\n",
        "print(f'\\nMeses que superaron la temperatura promedio anual de {promedio_anual:.2f}°C: ')\n",
        "\n",
        "for mes, temperatura in meses.items():\n",
        "  if temperatura > promedio_anual:\n",
        "    print(f'{mes} con una temperatura de: {temperatura}°C')"
      ],
      "metadata": {
        "colab": {
          "base_uri": "https://localhost:8080/"
        },
        "id": "Q1KwDDmzSdGV",
        "outputId": "d3e0c27c-caae-4281-9ab2-0487d3e3c1af"
      },
      "execution_count": 30,
      "outputs": [
        {
          "output_type": "stream",
          "name": "stdout",
          "text": [
            "Ingrese la temperatura media de Enero: 18\n",
            "Ingrese la temperatura media de Febrero: 19\n",
            "Ingrese la temperatura media de Marzo: 20\n",
            "Ingrese la temperatura media de Abril: 17\n",
            "Ingrese la temperatura media de Mayo: 16\n",
            "Ingrese la temperatura media de Junio: 15\n",
            "Ingrese la temperatura media de Julio: 14\n",
            "Ingrese la temperatura media de Agosto: 25\n",
            "Ingrese la temperatura media de Septiembre: 26\n",
            "Ingrese la temperatura media de Octubre: 28\n",
            "Ingrese la temperatura media de Noviembre: 30\n",
            "Ingrese la temperatura media de Diciembre: 28\n",
            "\n",
            "Meses que superaron la temperatura promedio anual de 21.33°C: \n",
            "Agosto con una temperatura de: 25.0°C\n",
            "Septiembre con una temperatura de: 26.0°C\n",
            "Octubre con una temperatura de: 28.0°C\n",
            "Noviembre con una temperatura de: 30.0°C\n",
            "Diciembre con una temperatura de: 28.0°C\n"
          ]
        }
      ]
    },
    {
      "cell_type": "markdown",
      "source": [
        "Una empresa de comercio electrónico está interesada en analizar las ventas de sus productos. Los datos de ventas se han almacenado en un diccionario:\n",
        "\n",
        "{'Producto A': 300, 'Producto B': 80, 'Producto C': 60, 'Producto D': 200, 'Producto E': 250, 'Producto F': 30}\n",
        "\n",
        "Escribe un código que calcule el total de ventas y el producto más vendido."
      ],
      "metadata": {
        "id": "W24f4vN82Afd"
      }
    },
    {
      "cell_type": "code",
      "source": [
        "ventas_productos = {'Producto A': 300, 'Producto B': 80, 'Producto C': 60, 'Producto D': 200, 'Producto E': 250, 'Producto F': 30}\n",
        "\n",
        "print(ventas_productos.get('Producto A'))\n",
        "total_ventas = sum(ventas_productos.values())\n",
        "producto_mas_vendido = max(ventas_productos, key=ventas_productos.get)\n",
        "\n",
        "print(f'El total de ventas es de: ${total_ventas}')\n",
        "print(f'El producto más vendido fue: {producto_mas_vendido} con un total de: ${ventas_productos[producto_mas_vendido]}')"
      ],
      "metadata": {
        "colab": {
          "base_uri": "https://localhost:8080/"
        },
        "id": "gb4QoKeXv2aA",
        "outputId": "c2a74207-ad64-496f-9f31-264ac4213160"
      },
      "execution_count": 38,
      "outputs": [
        {
          "output_type": "stream",
          "name": "stdout",
          "text": [
            "300\n",
            "El total de ventas es de: $920\n",
            "El producto más vendido fue: Producto A con un total de: $300\n"
          ]
        }
      ]
    },
    {
      "cell_type": "markdown",
      "source": [
        "Se realizó una encuesta de mercado para decidir cuál diseño de marca infantil es más atractivo para los niños. Los votos de la encuesta se pueden ver a continuación:\n",
        "\n",
        "Tabla de votos de la marca\n",
        "Diseño 1 - 1334 votos\n",
        "Diseño 2 - 982 votos\n",
        "Diseño 3 - 1751 votos\n",
        "Diseño 4 - 210 votos\n",
        "Diseño 5 - 1811 votos\n",
        "\n",
        "Adapta los datos proporcionados a una estructura de diccionario. A partir de ello, informa el diseño ganador y el porcentaje de votos recibidos."
      ],
      "metadata": {
        "id": "UmzKe0Zl2Dx7"
      }
    },
    {
      "cell_type": "code",
      "source": [
        "votos_encuesta = {'Diseño 1': 1334, 'Diseño 2': 982, 'Diseño 3': 1751, 'Diseño 4': 210, 'Diseño 5': 1811}\n",
        "\n",
        "total_votos = sum(votos_encuesta.values())\n",
        "\n",
        "print('El resultado de las votaciones fue el siguiente: ')\n",
        "\n",
        "for diseño, votos in votos_encuesta.items():\n",
        "  porcentaje_votos = (votos/total_votos)*100\n",
        "  print(f'{diseño}: {votos} votos - {porcentaje_votos:.2f}%')\n",
        "\n",
        "diseño_ganador = max(votos_encuesta, key=votos_encuesta.get)\n",
        "porcentaje_votos_ganador = (votos_encuesta[diseño_ganador]/total_votos)*100\n",
        "\n",
        "print(f'\\nEl diseño ganador fue el: {diseño_ganador} con un total de: {votos_encuesta[diseño_ganador]} votos - {porcentaje_votos_ganador:.2f}%')"
      ],
      "metadata": {
        "colab": {
          "base_uri": "https://localhost:8080/"
        },
        "id": "HXg8yfbG0MjD",
        "outputId": "17d5b82d-dccb-4078-aed2-07fc83c4731e"
      },
      "execution_count": 42,
      "outputs": [
        {
          "output_type": "stream",
          "name": "stdout",
          "text": [
            "El resultado de las votaciones fue el siguiente: \n",
            "Diseño 1: 1334 votos - 21.91%\n",
            "Diseño 2: 982 votos - 16.13%\n",
            "Diseño 3: 1751 votos - 28.76%\n",
            "Diseño 4: 210 votos - 3.45%\n",
            "Diseño 5: 1811 votos - 29.75%\n",
            "\n",
            "El diseño ganador fue el: Diseño 5 con un total de: 1811 votos - 29.75%\n"
          ]
        }
      ]
    },
    {
      "cell_type": "markdown",
      "source": [
        "Los empleados de un departamento de tu empresa recibirán una bonificación del 10% de su salario debido a un excelente rendimiento del equipo. El departamento de finanzas ha solicitado tu ayuda para verificar las consecuencias financieras de esta bonificación en los recursos. Se te ha enviado una lista con los salarios que recibirán la bonificación: [1172, 1644, 2617, 5130, 5532, 6341, 6650, 7238, 7685, 7782, 7903]. La bonificación de cada empleado no puede ser inferior a 200. En el código, convierte cada uno de los salarios en claves de un diccionario y la bonificación de cada salario en el valor correspondiente. Luego, informa el gasto total en bonificaciones, cuántos empleados recibieron la bonificación mínima y cuál fue el valor más alto de la bonificación proporcionada."
      ],
      "metadata": {
        "id": "aFtGfav82Hjw"
      }
    },
    {
      "cell_type": "code",
      "source": [
        "salarios_bonificacion = [1172, 1644, 2617, 5130, 5532, 6341, 6650, 7238, 7685, 7782, 7903]\n",
        "\n",
        "bonificaciones = {}\n",
        "\n",
        "for salario in salarios_bonificacion:\n",
        "  bonificacion = max(salario * 0.1, 200)\n",
        "  bonificaciones[salario] = bonificacion\n",
        "\n",
        "gasto_total_bonifaciones = sum(bonificaciones.values())\n",
        "empleados_min_bonificacion = sum(1 for bonificacion in bonificaciones.values() if bonificacion == 200)\n",
        "valor_max_bonificacion = max(bonificaciones.values())\n",
        "\n",
        "print(f\"El gasto total en bonificaciones es de: ${gasto_total_bonifaciones}\")\n",
        "print(f\"La cantidad de empleados que recibieron la bonificación mínima fue de: {empleados_min_bonificacion}\")\n",
        "print(f\"El valor más alto de la bonificación fue de: ${valor_max_bonificacion:.2f}\")"
      ],
      "metadata": {
        "colab": {
          "base_uri": "https://localhost:8080/"
        },
        "id": "JJVWfWOy22rC",
        "outputId": "24f657a6-3b81-497c-9b41-ac0db06195bd"
      },
      "execution_count": 73,
      "outputs": [
        {
          "output_type": "stream",
          "name": "stdout",
          "text": [
            "El gasto total en bonificaciones es de: $6087.8\n",
            "La cantidad de empleados que recibieron la bonificación mínima fue de: 2\n",
            "El valor más alto de la bonificación fue de: $790.30\n"
          ]
        }
      ]
    },
    {
      "cell_type": "markdown",
      "source": [
        "Un equipo de científicos de datos está estudiando la diversidad biológica en un bosque. El equipo recopiló información sobre el número de especies de plantas y animales en cada área del bosque y almacenó estos datos en un diccionario. En él, la clave describe el área de los datos y los valores en las listas corresponden a las especies de plantas y animales en esas áreas, respectivamente.\n",
        "\n",
        "{'Área Norte': [2819, 7236], 'Área Leste': [1440, 9492], 'Área Sul': [5969, 7496], 'Área Oeste': [14446, 49688], 'Área Centro': [22558, 45148]}\n",
        "\n",
        "Escribe un código para calcular el promedio de especies por área e identificar el área con la mayor diversidad biológica. Sugerencia: utiliza las funciones incorporadas sum() y len()."
      ],
      "metadata": {
        "id": "goLgYiPy2KBI"
      }
    },
    {
      "cell_type": "code",
      "source": [
        "diversidad_biologica = {'Área Norte': [2819, 7236], 'Área Leste': [1440, 9492], 'Área Sul': [5969, 7496], 'Área Oeste': [14446, 49688], 'Área Centro': [22558, 45148]}\n",
        "\n",
        "promedio_especies_por_area = {}\n",
        "\n",
        "for area, especies in diversidad_biologica.items():\n",
        "  total_especies = sum(especies)\n",
        "  promedio = total_especies/len(especies)\n",
        "  promedio_especies_por_area[area] = promedio\n",
        "  print(f'El promedio de especies por área en {area} es de: {promedio} especies')\n",
        "\n",
        "area_mayor_diversidad = max(promedio_especies_por_area, key=promedio_especies_por_area.get)\n",
        "print(f'\\nEl área con mayor diversidad biologica es el {area_mayor_diversidad} con un total de {sum(diversidad_biologica[area_mayor_diversidad])} especies')"
      ],
      "metadata": {
        "colab": {
          "base_uri": "https://localhost:8080/"
        },
        "id": "aBoijdhV7PAt",
        "outputId": "9fb72f56-cee2-429a-c4fc-606ea642dad6"
      },
      "execution_count": 76,
      "outputs": [
        {
          "output_type": "stream",
          "name": "stdout",
          "text": [
            "El promedio de especies por área en Área Norte es de: 5027.5 especies\n",
            "El promedio de especies por área en Área Leste es de: 5466.0 especies\n",
            "El promedio de especies por área en Área Sul es de: 6732.5 especies\n",
            "El promedio de especies por área en Área Oeste es de: 32067.0 especies\n",
            "El promedio de especies por área en Área Centro es de: 33853.0 especies\n",
            "\n",
            "El área con mayor diversidad biologica es el Área Centro con un total de 67706 especies\n"
          ]
        }
      ]
    },
    {
      "cell_type": "markdown",
      "source": [
        "El departamento de Recursos Humanos de tu empresa te pidió ayuda para analizar las edades de los colaboradores de 4 sectores de la empresa. Para ello, te proporcionaron los siguientes datos:\n",
        "\n",
        "{'Setor A': [22, 26, 30, 30, 35, 38, 40, 56, 57, 65],\n",
        " 'Setor B': [22, 24, 26, 33, 41, 49, 50, 54, 60, 64],\n",
        " 'Setor C': [23, 26, 26, 29, 34, 35, 36, 41, 52, 56],\n",
        " 'Setor D': [19, 20, 25, 27, 34, 39, 42, 44, 50, 65]}\n",
        "\n",
        " Dado que cada sector tiene 10 colaboradores, construye un código que calcule la media de edad de cada sector, la edad media general entre todos los sectores y cuántas personas están por encima de la edad media general."
      ],
      "metadata": {
        "id": "ecAZBxx92LcU"
      }
    },
    {
      "cell_type": "code",
      "source": [
        "edades_colaboradores = {\n",
        "    'Setor A': [22, 26, 30, 30, 35, 38, 40, 56, 57, 65],\n",
        "    'Setor B': [22, 24, 26, 33, 41, 49, 50, 54, 60, 64],\n",
        "    'Setor C': [23, 26, 26, 29, 34, 35, 36, 41, 52, 56],\n",
        "    'Setor D': [19, 20, 25, 27, 34, 39, 42, 44, 50, 65]\n",
        "}\n",
        "\n",
        "edad_media_sector = {}\n",
        "edades_totales = []\n",
        "\n",
        "for sector, edades in edades_colaboradores.items():\n",
        "  edad_media_sector[sector] = sum(edades)/len(edades)\n",
        "  print(f'La edad media del sector {sector} es de: {edad_media_sector[sector]:.2f}')\n",
        "  edades_totales.extend(edades)\n",
        "\n",
        "suma_total_edades = sum(edades_totales)\n",
        "total_personas = len(edades_totales)\n",
        "edad_media_general = suma_total_edades / total_personas\n",
        "\n",
        "print(f'\\nLa edad media general es de: {edad_media_general:.2f}')\n",
        "\n",
        "personas_por_encima_media = 0\n",
        "\n",
        "for sector, edades in edades_colaboradores.items():\n",
        "  for edad in edades:\n",
        "    if edad > edad_media_general:\n",
        "      personas_por_encima_media += 1\n",
        "\n",
        "print(f'\\nLa cantidad de personas por encima de la edad media general es de: {personas_por_encima_media}')"
      ],
      "metadata": {
        "colab": {
          "base_uri": "https://localhost:8080/"
        },
        "id": "TbQfAxBr-H1m",
        "outputId": "61d0cef0-8289-4206-fc17-b5ffa59f344d"
      },
      "execution_count": 82,
      "outputs": [
        {
          "output_type": "stream",
          "name": "stdout",
          "text": [
            "La edad media del sector Setor A es de: 39.90\n",
            "La edad media del sector Setor B es de: 42.30\n",
            "La edad media del sector Setor C es de: 35.80\n",
            "La edad media del sector Setor D es de: 36.50\n",
            "\n",
            "La edad media general es de: 38.62\n",
            "\n",
            "La cantidad de personas por encima de la edad media general es de: 18\n"
          ]
        }
      ]
    }
  ]
}