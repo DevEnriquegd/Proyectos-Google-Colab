{
  "nbformat": 4,
  "nbformat_minor": 0,
  "metadata": {
    "colab": {
      "provenance": [],
      "authorship_tag": "ABX9TyNm8w+zq3Fm12ncEcJ7RwBO",
      "include_colab_link": true
    },
    "kernelspec": {
      "name": "python3",
      "display_name": "Python 3"
    },
    "language_info": {
      "name": "python"
    }
  },
  "cells": [
    {
      "cell_type": "markdown",
      "metadata": {
        "id": "view-in-github",
        "colab_type": "text"
      },
      "source": [
        "<a href=\"https://colab.research.google.com/github/DevEnriquegd/Proyectos-Google-Colab/blob/main/Proyectos_con_funciones.ipynb\" target=\"_parent\"><img src=\"https://colab.research.google.com/assets/colab-badge.svg\" alt=\"Open In Colab\"/></a>"
      ]
    },
    {
      "cell_type": "markdown",
      "source": [
        "## Calentamiento"
      ],
      "metadata": {
        "id": "QjX0-oF5wilt"
      }
    },
    {
      "cell_type": "markdown",
      "source": [
        "Escribe un código que lee la lista siguiente y realiza:\n",
        "\n",
        "```\n",
        "lista = [16, 14, 63, 65, 17, 99, 70, 11, 20, 48, 79, 32, 17, 89, 12, 25, 66]\n",
        "# 1. Leer el tamaño de la lista\n",
        "# 2. Leer el valor máximo y mínimo\n",
        "# 3. Calcular la suma de los valores de la lista\n",
        "# 4. Mostrar un mensaje al final: La lista tiene `tamano` números, donde el mayor\n",
        "# es `mayor` y el menor es `menor`. La suma de los valores es `suma`.\n",
        "```"
      ],
      "metadata": {
        "id": "JfQXGmYAwRGd"
      }
    },
    {
      "cell_type": "code",
      "source": [
        "lista = [16, 14, 63, 65, 17, 99, 70, 11, 20, 48, 79, 32, 17, 89, 12, 25, 66]\n",
        "\n",
        "tamaño_lista = len(lista)\n",
        "\n",
        "valor_maximo = max(lista)\n",
        "valor_minimo = min(lista)\n",
        "\n",
        "suma_valores = sum(lista)\n",
        "\n",
        "print(f\"La lista tiene {tamaño_lista} números, donde el mayor es {valor_maximo} y el menor es {valor_minimo}. La suma de los valores es {suma_valores}.\")"
      ],
      "metadata": {
        "colab": {
          "base_uri": "https://localhost:8080/"
        },
        "id": "Busovd_OxULa",
        "outputId": "eb736292-5306-48da-f805-9d9bb214f67e"
      },
      "execution_count": null,
      "outputs": [
        {
          "output_type": "stream",
          "name": "stdout",
          "text": [
            "La lista tiene 17 números, donde el mayor es 99 y el menor es 11. La suma de los valores es 743.\n"
          ]
        }
      ]
    },
    {
      "cell_type": "markdown",
      "source": [
        "Escribe una función que genere la tabla de multiplicar de un número entero del 1 al 10, según la elección del usuario. Como ejemplo, para el número 7, la tabla de multiplicar se debe mostrar en el siguiente formato:\n",
        "```\n",
        "# Tabla del  7:\n",
        "# 7 x 0 = 0\n",
        "# 7 x 1 = 7\n",
        "# [...]\n",
        "# 7 x 10 = 70\n",
        "```"
      ],
      "metadata": {
        "id": "8AtERkskwUZz"
      }
    },
    {
      "cell_type": "code",
      "source": [
        "numero = int(input('Ingrese un número: '))\n",
        "\n",
        "def tabla_multiplicar(numero):\n",
        "  for i in range(1, 11):\n",
        "    resultado = numero * i\n",
        "    print(f\"{numero} x {i} = {resultado}\")\n",
        "\n",
        "tabla_multiplicar(numero)"
      ],
      "metadata": {
        "colab": {
          "base_uri": "https://localhost:8080/"
        },
        "id": "-ahUj8hXx7Ru",
        "outputId": "25ffed81-1137-4c13-81e7-71b20321bd25"
      },
      "execution_count": null,
      "outputs": [
        {
          "output_type": "stream",
          "name": "stdout",
          "text": [
            "Ingrese un número: 8\n",
            "8 x 1 = 8\n",
            "8 x 2 = 16\n",
            "8 x 3 = 24\n",
            "8 x 4 = 32\n",
            "8 x 5 = 40\n",
            "8 x 6 = 48\n",
            "8 x 7 = 56\n",
            "8 x 8 = 64\n",
            "8 x 9 = 72\n",
            "8 x 10 = 80\n"
          ]
        }
      ]
    },
    {
      "cell_type": "markdown",
      "source": [
        "Crea una función que lea la siguiente lista y devuelva una nueva lista con los múltiplos de 3:\n",
        "\n",
        "```\n",
        "[97, 80, 94, 88, 80, 1, 16, 53, 62, 32, 24, 99]\n",
        "```"
      ],
      "metadata": {
        "id": "V0kpI8O-waIt"
      }
    },
    {
      "cell_type": "code",
      "source": [
        "lista = [97, 80, 94, 88, 9, 80, 1, 16, 53, 62, 32, 24, 99]\n",
        "\n",
        "def multiplos_de_3(lista):\n",
        "  multiplos = []\n",
        "  for numero in lista:\n",
        "    if numero % 3 == 0:\n",
        "      multiplos.append(numero)\n",
        "  return multiplos\n",
        "\n",
        "multiplos = multiplos_de_3(lista)\n",
        "print(multiplos)"
      ],
      "metadata": {
        "colab": {
          "base_uri": "https://localhost:8080/"
        },
        "id": "wEypH5Cgyskb",
        "outputId": "b9bb4a66-3b6d-4a7f-8fa3-045e8073cb35"
      },
      "execution_count": null,
      "outputs": [
        {
          "output_type": "stream",
          "name": "stdout",
          "text": [
            "[9, 24, 99]\n"
          ]
        }
      ]
    },
    {
      "cell_type": "markdown",
      "source": [
        "Crea una lista de los cuadrados de los números de la siguiente lista [1, 2, 3, 4, 5, 6, 7, 8, 9, 10]. Recuerda utilizar las funciones lambda y map() para calcular el cuadrado de cada elemento de la lista."
      ],
      "metadata": {
        "id": "MDeL7EYNwhFM"
      }
    },
    {
      "cell_type": "code",
      "source": [
        "lista = [1, 2, 3, 4, 5, 6, 7, 8, 9, 10]\n",
        "\n",
        "lista_cuadrados = list(map(lambda numero: numero**2, lista))\n",
        "\n",
        "print(f\"Lista original: {lista}\\nLista con los cuadrados de cada numero: {lista_cuadrados}\")"
      ],
      "metadata": {
        "colab": {
          "base_uri": "https://localhost:8080/"
        },
        "id": "_H35q6DUzGJ8",
        "outputId": "e31d8278-3fe5-495c-a0cd-74fce6a2b5dc"
      },
      "execution_count": null,
      "outputs": [
        {
          "output_type": "stream",
          "name": "stdout",
          "text": [
            "Lista original: [1, 2, 3, 4, 5, 6, 7, 8, 9, 10]\n",
            "Lista con los cuadrados de cada numero: [1, 4, 9, 16, 25, 36, 49, 64, 81, 100]\n"
          ]
        }
      ]
    },
    {
      "cell_type": "markdown",
      "source": [
        "## Aplicando a proyectos"
      ],
      "metadata": {
        "id": "l4sVlW1qwlSt"
      }
    },
    {
      "cell_type": "markdown",
      "source": [
        "Has sido contratado como científico(a) de datos de una asociación de skate. Para analizar las notas recibidas por los skaters en algunas competiciones a lo largo del año, necesitas crear un código que calcule la puntuación de los atletas. Para ello, tu código debe recibir 5 notas ingresadas por los jueces."
      ],
      "metadata": {
        "id": "odqNqy7Swm77"
      }
    },
    {
      "cell_type": "code",
      "source": [
        "puntuacion_total = 0\n",
        "numero_de_jueces = 5\n",
        "\n",
        "for i in range(numero_de_jueces):\n",
        "  nota = float(input(f\"Ingrese la nota {i+1}: \"))\n",
        "  puntuacion_total += nota\n",
        "\n",
        "puntuacion_final = puntuacion_total / numero_de_jueces\n",
        "\n",
        "print(f\"La puntuación final del atleta es: {puntuacion_final}\")"
      ],
      "metadata": {
        "colab": {
          "base_uri": "https://localhost:8080/"
        },
        "id": "jOt9qOkVvca5",
        "outputId": "28782f29-b52b-473f-b931-c0c59147a98b"
      },
      "execution_count": 2,
      "outputs": [
        {
          "output_type": "stream",
          "name": "stdout",
          "text": [
            "Ingrese la nota 1: 5\n",
            "Ingrese la nota 2: 2\n",
            "Ingrese la nota 3: 6\n",
            "Ingrese la nota 4: 3\n",
            "Ingrese la nota 5: 4\n",
            "La puntuación final del atleta es: 4.0\n"
          ]
        }
      ]
    },
    {
      "cell_type": "markdown",
      "source": [
        "Para cumplir con una demanda de una institución educativa para el análisis del rendimiento de sus estudiantes, necesitas crear una función que reciba una lista de 4 notas y devuelva:\n",
        "\n",
        "```\n",
        "# mayor nota\n",
        "# menor nota\n",
        "# media\n",
        "# situación (Aprobado(a) o Reprobado(a))\n",
        "# Uso de la función\n",
        "# Mostrar: El estudiante obtuvo una media de `media`, con la mayor nota de `mayor` puntos y la menor nota de `menor` puntos y fue `situacion`.)\n",
        "```\n",
        "\n"
      ],
      "metadata": {
        "id": "SRFvuLO2woKv"
      }
    },
    {
      "cell_type": "code",
      "source": [
        "notas = [15.8, 16.5, 13.2, 11.5]\n",
        "\n",
        "def analisis_notas(notas):\n",
        "  mayor_nota = max(notas)\n",
        "  menor_nota = min(notas)\n",
        "  media = sum(notas) / len(notas)\n",
        "  if media >= 13:\n",
        "    situacion = \"Aprobado(a)\"\n",
        "  else:\n",
        "    situacion = \"Reprobado(a)\"\n",
        "  return mayor_nota, menor_nota, media, situacion\n",
        "\n",
        "mayor_nota, menor_nota, media, situacion = analisis_notas(notas)\n",
        "\n",
        "print(f\"El estudiante obtuvo una media de {media}, con la mayor nota de {mayor_nota} puntos y la menor nota de {menor_nota} puntos y fue {situacion}.\")"
      ],
      "metadata": {
        "colab": {
          "base_uri": "https://localhost:8080/"
        },
        "id": "WyscICcRwya-",
        "outputId": "05beaeaa-95c6-402f-b98c-cf7e4bc35cb4"
      },
      "execution_count": 3,
      "outputs": [
        {
          "output_type": "stream",
          "name": "stdout",
          "text": [
            "El estudiante obtuvo una media de 14.25, con la mayor nota de 16.5 puntos y la menor nota de 11.5 puntos y fue Aprobado(a).\n"
          ]
        }
      ]
    },
    {
      "cell_type": "markdown",
      "source": [
        "Has recibido una demanda para tratar 2 listas con los nombres y apellidos de cada estudiante concatenándolos para presentar sus nombres completos en la forma Nombre Apellido. Las listas son:\n",
        "\n",
        "```\n",
        "nombres = [\"juan\", \"MaRia\", \"JOSÉ\"]\n",
        "apellidos = [\"SILVA\", \"sosa\", \"Tavares\"]\n",
        "\n",
        "# Normalizar nombres y apellidos y crear una nueva lista con los nombres completos\n",
        "# Puedes apoyarte en la función map()\n",
        "```"
      ],
      "metadata": {
        "id": "-Fqo1Cl4wqLj"
      }
    },
    {
      "cell_type": "code",
      "source": [
        "nombres = [\"juan\", \"MaRia\", \"JOSÉ\"]\n",
        "apellidos = [\"SILVA\", \"sosa\", \"Tavares\"]\n",
        "\n",
        "nombre_completo = list(map(lambda nombre, apellido: nombre.capitalize() + ' ' + apellido.capitalize(), nombres, apellidos))\n",
        "\n",
        "print(nombre_completo)"
      ],
      "metadata": {
        "colab": {
          "base_uri": "https://localhost:8080/"
        },
        "id": "RX76YMj5xdev",
        "outputId": "a7bc67a6-2f0d-4026-fb3c-925f27945cb1"
      },
      "execution_count": 7,
      "outputs": [
        {
          "output_type": "stream",
          "name": "stdout",
          "text": [
            "['Juan Silva', 'Maria Sosa', 'José Tavares']\n"
          ]
        }
      ]
    },
    {
      "cell_type": "markdown",
      "source": [
        "Como científico de datos en un equipo de fútbol, necesitas implementar nuevas formas de recopilación de datos sobre el rendimiento de los jugadores y del equipo en su conjunto. Tu primera acción es crear una forma de calcular la puntuación del equipo en el campeonato nacional a partir de los datos de goles marcados y recibidos en cada juego.\n",
        "\n",
        "Escribe una función llamada calcula_puntos() que recibe como parámetros dos listas de números enteros, representando los goles marcados y recibidos por el equipo en cada partido del campeonato. La función debe devolver la puntuación del equipo y el rendimiento en porcentaje, teniendo en cuenta que la victoria vale 3 puntos, el empate 1 punto y la derrota 0 puntos.\n",
        "\n",
        "Nota: si la cantidad de goles marcados en un partido es mayor que los recibidos, el equipo ganó. En caso de ser igual, el equipo empató, y si es menor, el equipo perdió. Para calcular el rendimiento, debemos hacer la razón entre la puntuación del equipo y la puntuación máxima que podría recibir.\n",
        "\n",
        "Para la prueba, utiliza las siguientes listas de goles marcados y recibidos:\n",
        "\n",
        "\n",
        "```\n",
        "goles_marcados = [2, 1, 3, 1, 0]\n",
        "goles_recibidos = [1, 2, 2, 1, 3]\n",
        "# Texto probablemente mostrado:\n",
        "# La puntuación del equipo fue `puntos` y su rendimiento fue `desempeno`%\"\n",
        "```\n",
        "\n"
      ],
      "metadata": {
        "id": "Hu6u0PL-wwy_"
      }
    },
    {
      "cell_type": "code",
      "source": [
        "goles_marcados = [2, 1, 3, 1, 0]\n",
        "goles_recibidos = [1, 2, 2, 1, 3]\n",
        "puntos = 0\n",
        "\n",
        "def calcula_puntos(goles_marcados, goles_recibidos):\n",
        "  puntos = 0\n",
        "  for i in range(len(goles_marcados)):\n",
        "    if goles_marcados[i] > goles_recibidos[i]:\n",
        "      puntos += 3\n",
        "    elif goles_marcados[i] == goles_recibidos[i]:\n",
        "      puntos += 1\n",
        "    else:\n",
        "      puntos += 0\n",
        "\n",
        "  desempeño = (puntos / (len(goles_marcados) * 3)) * 100\n",
        "  return puntos, desempeño\n",
        "\n",
        "puntos, desempeño = calcula_puntos(goles_marcados, goles_recibidos)\n",
        "\n",
        "print(f\"La puntuación del equipo fue {puntos} y su rendimiento fue {desempeño:.2f}%\")"
      ],
      "metadata": {
        "colab": {
          "base_uri": "https://localhost:8080/"
        },
        "id": "HX4Qbk15zjQJ",
        "outputId": "69712248-5c9f-488d-9b90-d3329aaf99da"
      },
      "execution_count": 19,
      "outputs": [
        {
          "output_type": "stream",
          "name": "stdout",
          "text": [
            "La puntuación del equipo fue 7 y su rendimiento fue 46.67%\n"
          ]
        }
      ]
    },
    {
      "cell_type": "markdown",
      "source": [
        "Te han desafiado a crear un código que calcule los gastos de un viaje a una de las cuatro ciudades desde Recife, siendo ellas: Salvador, Fortaleza, Natal y Aracaju.\n",
        "\n",
        "El costo diario del hotel es de 150 reales en todas ellas y el consumo de gasolina en el viaje en coche es de 14 km/l, siendo que el precio de la gasolina es de 5 reales por litro. Los gastos con paseos y alimentación a realizar en cada una de ellas por día serían [200, 400, 250, 300], respectivamente.\n",
        "\n",
        "Sabiendo que las distancias entre Recife y cada una de las ciudades son aproximadamente [850, 800, 300, 550] km, crea tres funciones: la primera función calcula los gastos de hotel (gasto_hotel), la segunda calcula los gastos de gasolina (gasto_gasolina) y la tercera los gastos de paseo y alimentación (gasto_paseo).\n",
        "\n",
        "Para probar, simula un viaje de 3 días a Salvador desde Recife. Considera el viaje de ida y vuelta en coche.\n",
        "\n",
        "```\n",
        "# Texto probablemente mostrado:\n",
        "# Con base en los gastos definidos, un viaje de [dias] días a [ciudad] desde\n",
        "# Recife costaría [gastos] reales.\n",
        "```\n",
        "\n"
      ],
      "metadata": {
        "id": "QITxsvu0w0wu"
      }
    },
    {
      "cell_type": "code",
      "source": [
        "costo_diario_hotel = 150\n",
        "consumo_gasolina = 14\n",
        "precio_gasolina = 5\n",
        "gastos_paseo = [200, 400, 250, 300]\n",
        "distancias = [850, 800, 300, 550]\n",
        "ciudades = ['Salvador', 'Fortaleza', 'Natal', 'Aracaju']\n",
        "dias = 3\n",
        "\n",
        "def crear_diccionario(ciudades: list, distancias: list, gastos_paseo: list) -> dict:\n",
        "  combinar_listas = zip(ciudades, distancias, gastos_paseo)\n",
        "\n",
        "  destino_turistico = {\n",
        "      nombre: {\n",
        "          'distancia': distancia,\n",
        "          'gastos_paseo': gasto\n",
        "      }\n",
        "      for nombre, distancia, gasto in combinar_listas\n",
        "  }\n",
        "  return destino_turistico\n",
        "\n",
        "destino_turistico = crear_diccionario(ciudades, distancias, gastos_paseo)\n",
        "\n",
        "def gastos_hotel(dias):\n",
        "  return dias * costo_diario_hotel\n",
        "\n",
        "def gastos_gasolina(ciudad):\n",
        "  distancia = destino_turistico[ciudad]['distancia']\n",
        "  litros_gasolina = distancia * 2 / consumo_gasolina\n",
        "  costo_gasolina = litros_gasolina * precio_gasolina\n",
        "  return costo_gasolina\n",
        "\n",
        "def gastos_paseo_alimentacion(ciudad, dias):\n",
        "  gasto_diario = destino_turistico[ciudad]['gastos_paseo']\n",
        "  return dias * gasto_diario\n",
        "\n",
        "def calcular_gastos_totales(ciudad, dias):\n",
        "  total_hotel = gastos_hotel(dias)\n",
        "  total_gasolina = gastos_gasolina(ciudad)\n",
        "  total_paseo = gastos_paseo_alimentacion(ciudad, dias)\n",
        "\n",
        "  return total_hotel + total_gasolina + total_paseo\n",
        "\n",
        "ciudad = 'Salvador'\n",
        "gastos_totales = calcular_gastos_totales(ciudad, dias)\n",
        "\n",
        "print(f\"Con base en los gastos definidos, un viaje de {dias} días a {ciudad} desde Recife costaría {gastos_totales:.2f} reales.\")\n"
      ],
      "metadata": {
        "colab": {
          "base_uri": "https://localhost:8080/"
        },
        "id": "gYWUbI2L36A7",
        "outputId": "a2c4123c-474b-4eea-bf10-acdeb5f01835"
      },
      "execution_count": 35,
      "outputs": [
        {
          "output_type": "stream",
          "name": "stdout",
          "text": [
            "Con base en los gastos definidos, un viaje de 3 días a Salvador desde Recife costaría 1657.14 reales.\n"
          ]
        }
      ]
    },
    {
      "cell_type": "markdown",
      "source": [
        "Has comenzado una pasantía en una empresa que trabaja con procesamiento de lenguaje natural (NLP). Tu líder te solicitó que crees un fragmento de código que reciba una frase escrita por el usuario y filtre solo las palabras con un tamaño mayor o igual a 5, mostrándolas en una lista. Esta demanda se centra en el análisis del patrón de comportamiento de las personas al escribir palabras de esta cantidad de caracteres o más.\n",
        "\n",
        "Consejo: utiliza las funciones lambda y filter() para filtrar estas palabras. Recordando que la función integrada filter() recibe una función (en nuestro caso, una función lambda) y filtra un iterable según la función. Para tratar la frase, utiliza replace() para cambiar ',' '.', '!' y '?' por espacio.\n",
        "\n",
        "Utiliza la frase \"Aprender Python aquí en Alura es muy bueno\" para probar el código."
      ],
      "metadata": {
        "id": "aF0zugr8w3XH"
      }
    },
    {
      "cell_type": "code",
      "source": [
        "frase = \"Aprender Python aquí en Alura es muy bueno\"\n",
        "\n",
        "frase = frase.replace(', ', '').replace('. ', '').replace('! ', '').replace('?', '')\n",
        "\n",
        "palabras = frase.split()\n",
        "\n",
        "filtrar_palabras = list(filter(lambda palabra: len(palabra) >= 5, palabras))\n",
        "\n",
        "print(filtrar_palabras)"
      ],
      "metadata": {
        "colab": {
          "base_uri": "https://localhost:8080/"
        },
        "id": "JcUlC447BIj7",
        "outputId": "8a87f8f7-6797-403d-e792-9001a6e89f1e"
      },
      "execution_count": 39,
      "outputs": [
        {
          "output_type": "stream",
          "name": "stdout",
          "text": [
            "['Aprender', 'Python', 'Alura', 'bueno']\n"
          ]
        }
      ]
    }
  ]
}